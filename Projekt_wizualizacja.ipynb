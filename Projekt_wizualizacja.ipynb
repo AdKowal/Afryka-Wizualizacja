{
 "cells": [
  {
   "cell_type": "code",
   "execution_count": 3,
   "metadata": {},
   "outputs": [],
   "source": [
    "import pandas as pd\n",
    "from matplotlib import pyplot as plt\n",
    "import seaborn as sns\n",
    "import plotly.express as px"
   ]
  },
  {
   "cell_type": "markdown",
   "metadata": {},
   "source": [
    "# Projekt - wizualizacja danych\n",
    "Celem projektu jest analiza wpływu posiadania wspólnej waluty przez państwa Afryki zachodniej i środkowej na wybrane czynniki ekonomiczne, ze szczególnym uwzględnieniem PKB jako emanacji rozwoju gospodarczego, w okresie 2015 - 2018. Pod uwagę wzięto 26 państw należących do ECOWAS (Wspólnota Gospodarcza Państw Afryki Zachodniej) oraz ECCAS (Wspólnota Gospodarcza Państw Afryki Środkowej). 8 badanych państw posiada wspólną walutę w postaci Zachodnioafrykańskiego Franka CFA (fr. Communauté Financière Africaine), 6 państw posiada Środkowoafrykańskiego Franka CFA (fr. Coopération financière en Afrique centrale), a 12 państw posiada własne waluty krajowe. Dane zostały pobrane ze zbiorów Banku Światowego (https://databank.worldbank.org/)."
   ]
  },
  {
   "cell_type": "code",
   "execution_count": 4,
   "metadata": {},
   "outputs": [
    {
     "data": {
      "text/html": [
       "<div>\n",
       "<style scoped>\n",
       "    .dataframe tbody tr th:only-of-type {\n",
       "        vertical-align: middle;\n",
       "    }\n",
       "\n",
       "    .dataframe tbody tr th {\n",
       "        vertical-align: top;\n",
       "    }\n",
       "\n",
       "    .dataframe thead th {\n",
       "        text-align: right;\n",
       "    }\n",
       "</style>\n",
       "<table border=\"1\" class=\"dataframe\">\n",
       "  <thead>\n",
       "    <tr style=\"text-align: right;\">\n",
       "      <th></th>\n",
       "      <th>Country Name</th>\n",
       "      <th>Country Code</th>\n",
       "      <th>Series Name</th>\n",
       "      <th>2015</th>\n",
       "      <th>2016</th>\n",
       "      <th>2017</th>\n",
       "      <th>2018</th>\n",
       "      <th>Org. międzynarodowa</th>\n",
       "      <th>Waluta</th>\n",
       "    </tr>\n",
       "  </thead>\n",
       "  <tbody>\n",
       "    <tr>\n",
       "      <th>0</th>\n",
       "      <td>Angola</td>\n",
       "      <td>AGO</td>\n",
       "      <td>Domestic credit to private sector (% of GDP)</td>\n",
       "      <td>25.240108</td>\n",
       "      <td>21.098410</td>\n",
       "      <td>17.000685</td>\n",
       "      <td>14.935270</td>\n",
       "      <td>ECCAS</td>\n",
       "      <td>Wł.</td>\n",
       "    </tr>\n",
       "    <tr>\n",
       "      <th>1</th>\n",
       "      <td>Angola</td>\n",
       "      <td>AGO</td>\n",
       "      <td>Domestic credit to private sector by banks (% ...</td>\n",
       "      <td>24.010776</td>\n",
       "      <td>19.940831</td>\n",
       "      <td>15.920022</td>\n",
       "      <td>13.832310</td>\n",
       "      <td>ECCAS</td>\n",
       "      <td>Wł.</td>\n",
       "    </tr>\n",
       "    <tr>\n",
       "      <th>2</th>\n",
       "      <td>Angola</td>\n",
       "      <td>AGO</td>\n",
       "      <td>Broad money (% of GDP)</td>\n",
       "      <td>40.944660</td>\n",
       "      <td>39.162308</td>\n",
       "      <td>32.186521</td>\n",
       "      <td>30.646441</td>\n",
       "      <td>ECCAS</td>\n",
       "      <td>Wł.</td>\n",
       "    </tr>\n",
       "    <tr>\n",
       "      <th>3</th>\n",
       "      <td>Angola</td>\n",
       "      <td>AGO</td>\n",
       "      <td>Claims on central government, etc. (% GDP)</td>\n",
       "      <td>1.223081</td>\n",
       "      <td>5.928448</td>\n",
       "      <td>12.273636</td>\n",
       "      <td>9.957990</td>\n",
       "      <td>ECCAS</td>\n",
       "      <td>Wł.</td>\n",
       "    </tr>\n",
       "    <tr>\n",
       "      <th>4</th>\n",
       "      <td>Angola</td>\n",
       "      <td>AGO</td>\n",
       "      <td>Exports of goods and services (% of GDP)</td>\n",
       "      <td>29.754598</td>\n",
       "      <td>28.124485</td>\n",
       "      <td>29.004102</td>\n",
       "      <td>40.836290</td>\n",
       "      <td>ECCAS</td>\n",
       "      <td>Wł.</td>\n",
       "    </tr>\n",
       "  </tbody>\n",
       "</table>\n",
       "</div>"
      ],
      "text/plain": [
       "  Country Name Country Code  \\\n",
       "0       Angola          AGO   \n",
       "1       Angola          AGO   \n",
       "2       Angola          AGO   \n",
       "3       Angola          AGO   \n",
       "4       Angola          AGO   \n",
       "\n",
       "                                         Series Name       2015       2016  \\\n",
       "0       Domestic credit to private sector (% of GDP)  25.240108  21.098410   \n",
       "1  Domestic credit to private sector by banks (% ...  24.010776  19.940831   \n",
       "2                             Broad money (% of GDP)  40.944660  39.162308   \n",
       "3         Claims on central government, etc. (% GDP)   1.223081   5.928448   \n",
       "4           Exports of goods and services (% of GDP)  29.754598  28.124485   \n",
       "\n",
       "        2017       2018 Org. międzynarodowa Waluta  \n",
       "0  17.000685  14.935270               ECCAS    Wł.  \n",
       "1  15.920022  13.832310               ECCAS    Wł.  \n",
       "2  32.186521  30.646441               ECCAS    Wł.  \n",
       "3  12.273636   9.957990               ECCAS    Wł.  \n",
       "4  29.004102  40.836290               ECCAS    Wł.  "
      ]
     },
     "execution_count": 4,
     "metadata": {},
     "output_type": "execute_result"
    }
   ],
   "source": [
    "#Pobranie danych z pliku Excela. \n",
    "df = pd.read_excel(\"Dane_Afryka.xlsx\")\n",
    "df.head()"
   ]
  },
  {
   "cell_type": "code",
   "execution_count": 5,
   "metadata": {},
   "outputs": [
    {
     "data": {
      "text/plain": [
       "Country Name            object\n",
       "Country Code            object\n",
       "Series Name             object\n",
       "2015                   float64\n",
       "2016                   float64\n",
       "2017                   float64\n",
       "2018                   float64\n",
       "Org. międzynarodowa     object\n",
       "Waluta                  object\n",
       "dtype: object"
      ]
     },
     "execution_count": 5,
     "metadata": {},
     "output_type": "execute_result"
    }
   ],
   "source": [
    "#Sprawdzenie czy dane zostały wgrane we własciwym formacie.\n",
    "df.dtypes"
   ]
  },
  {
   "cell_type": "code",
   "execution_count": 6,
   "metadata": {},
   "outputs": [],
   "source": [
    "#Utworzenie ramki danych ułatwiającej wprowadzenie danych do wykresu.\n",
    "df_m = pd.melt(df, id_vars=[\"Country Name\", \"Country Code\", \"Series Name\", \"Org. międzynarodowa\", \"Waluta\"],\n",
    "               var_name=\"Rok\", value_name=\"Wartość serii\")"
   ]
  },
  {
   "cell_type": "code",
   "execution_count": 7,
   "metadata": {},
   "outputs": [
    {
     "data": {
      "text/plain": [
       "array(['Domestic credit to private sector (% of GDP)',\n",
       "       'Domestic credit to private sector by banks (% of GDP)',\n",
       "       'Broad money (% of GDP)',\n",
       "       'Claims on central government, etc. (% GDP)',\n",
       "       'Exports of goods and services (% of GDP)',\n",
       "       'Final consumption expenditure (% of GDP)',\n",
       "       'Foreign direct investment, net inflows (% of GDP)',\n",
       "       'Foreign direct investment, net outflows (% of GDP)',\n",
       "       'GDP growth (annual %)', 'GDP per capita growth (annual %)',\n",
       "       'Gross capital formation (% of GDP)',\n",
       "       'Gross domestic savings (% of GDP)',\n",
       "       'Gross national expenditure (% of GDP)',\n",
       "       'Gross savings (% of GDP)',\n",
       "       'Imports of goods and services (% of GDP)',\n",
       "       'Industry (including construction), value added (% of GDP)',\n",
       "       'Monetary Sector credit to private sector (% GDP)',\n",
       "       'Total natural resources rents (% of GDP)'], dtype=object)"
      ]
     },
     "execution_count": 7,
     "metadata": {},
     "output_type": "execute_result"
    }
   ],
   "source": [
    "#Sprawdzenie typów danych makroekonomicznych branych pod uwagę w analizie.\n",
    "df_m[\"Series Name\"].unique()"
   ]
  },
  {
   "cell_type": "code",
   "execution_count": 13,
   "metadata": {},
   "outputs": [
    {
     "data": {
      "text/html": [
       "<div>\n",
       "<style scoped>\n",
       "    .dataframe tbody tr th:only-of-type {\n",
       "        vertical-align: middle;\n",
       "    }\n",
       "\n",
       "    .dataframe tbody tr th {\n",
       "        vertical-align: top;\n",
       "    }\n",
       "\n",
       "    .dataframe thead th {\n",
       "        text-align: right;\n",
       "    }\n",
       "</style>\n",
       "<table border=\"1\" class=\"dataframe\">\n",
       "  <thead>\n",
       "    <tr style=\"text-align: right;\">\n",
       "      <th>Series Name</th>\n",
       "      <th>Country Name</th>\n",
       "      <th>Country Code</th>\n",
       "      <th>Org. międzynarodowa</th>\n",
       "      <th>Waluta</th>\n",
       "      <th>Rok</th>\n",
       "      <th>Broad money (% of GDP)</th>\n",
       "      <th>Claims on central government, etc. (% GDP)</th>\n",
       "      <th>Domestic credit to private sector (% of GDP)</th>\n",
       "      <th>Domestic credit to private sector by banks (% of GDP)</th>\n",
       "      <th>Exports of goods and services (% of GDP)</th>\n",
       "      <th>...</th>\n",
       "      <th>GDP growth (annual %)</th>\n",
       "      <th>GDP per capita growth (annual %)</th>\n",
       "      <th>Gross capital formation (% of GDP)</th>\n",
       "      <th>Gross domestic savings (% of GDP)</th>\n",
       "      <th>Gross national expenditure (% of GDP)</th>\n",
       "      <th>Gross savings (% of GDP)</th>\n",
       "      <th>Imports of goods and services (% of GDP)</th>\n",
       "      <th>Industry (including construction), value added (% of GDP)</th>\n",
       "      <th>Monetary Sector credit to private sector (% GDP)</th>\n",
       "      <th>Total natural resources rents (% of GDP)</th>\n",
       "    </tr>\n",
       "  </thead>\n",
       "  <tbody>\n",
       "    <tr>\n",
       "      <th>0</th>\n",
       "      <td>Angola</td>\n",
       "      <td>AGO</td>\n",
       "      <td>ECCAS</td>\n",
       "      <td>Wł.</td>\n",
       "      <td>2015</td>\n",
       "      <td>40.944660</td>\n",
       "      <td>1.223081</td>\n",
       "      <td>25.240108</td>\n",
       "      <td>24.010776</td>\n",
       "      <td>29.754598</td>\n",
       "      <td>...</td>\n",
       "      <td>0.943572</td>\n",
       "      <td>-2.642975</td>\n",
       "      <td>34.202491</td>\n",
       "      <td>30.823171</td>\n",
       "      <td>103.379320</td>\n",
       "      <td>24.817555</td>\n",
       "      <td>33.133918</td>\n",
       "      <td>41.933092</td>\n",
       "      <td>24.045538</td>\n",
       "      <td>13.305675</td>\n",
       "    </tr>\n",
       "    <tr>\n",
       "      <th>1</th>\n",
       "      <td>Angola</td>\n",
       "      <td>AGO</td>\n",
       "      <td>ECCAS</td>\n",
       "      <td>Wł.</td>\n",
       "      <td>2016</td>\n",
       "      <td>39.162308</td>\n",
       "      <td>5.928448</td>\n",
       "      <td>21.098410</td>\n",
       "      <td>19.940831</td>\n",
       "      <td>28.124485</td>\n",
       "      <td>...</td>\n",
       "      <td>-2.580111</td>\n",
       "      <td>-6.011891</td>\n",
       "      <td>27.214709</td>\n",
       "      <td>30.093516</td>\n",
       "      <td>97.121193</td>\n",
       "      <td>24.017490</td>\n",
       "      <td>25.245673</td>\n",
       "      <td>42.643568</td>\n",
       "      <td>19.990007</td>\n",
       "      <td>20.885120</td>\n",
       "    </tr>\n",
       "    <tr>\n",
       "      <th>2</th>\n",
       "      <td>Angola</td>\n",
       "      <td>AGO</td>\n",
       "      <td>ECCAS</td>\n",
       "      <td>Wł.</td>\n",
       "      <td>2017</td>\n",
       "      <td>32.186521</td>\n",
       "      <td>12.273636</td>\n",
       "      <td>17.000685</td>\n",
       "      <td>15.920022</td>\n",
       "      <td>29.004102</td>\n",
       "      <td>...</td>\n",
       "      <td>-0.147150</td>\n",
       "      <td>-3.630695</td>\n",
       "      <td>24.130306</td>\n",
       "      <td>29.881683</td>\n",
       "      <td>94.248623</td>\n",
       "      <td>23.099669</td>\n",
       "      <td>23.252720</td>\n",
       "      <td>42.167954</td>\n",
       "      <td>16.199090</td>\n",
       "      <td>25.950330</td>\n",
       "    </tr>\n",
       "    <tr>\n",
       "      <th>3</th>\n",
       "      <td>Angola</td>\n",
       "      <td>AGO</td>\n",
       "      <td>ECCAS</td>\n",
       "      <td>Wł.</td>\n",
       "      <td>2018</td>\n",
       "      <td>30.646441</td>\n",
       "      <td>9.957990</td>\n",
       "      <td>14.935270</td>\n",
       "      <td>13.832310</td>\n",
       "      <td>40.836290</td>\n",
       "      <td>...</td>\n",
       "      <td>-1.316362</td>\n",
       "      <td>-4.676670</td>\n",
       "      <td>17.869421</td>\n",
       "      <td>33.163991</td>\n",
       "      <td>84.705430</td>\n",
       "      <td>25.099924</td>\n",
       "      <td>25.541723</td>\n",
       "      <td>47.931542</td>\n",
       "      <td>14.021780</td>\n",
       "      <td>32.045406</td>\n",
       "    </tr>\n",
       "    <tr>\n",
       "      <th>4</th>\n",
       "      <td>Benin</td>\n",
       "      <td>BEN</td>\n",
       "      <td>ECOWAS</td>\n",
       "      <td>XOF</td>\n",
       "      <td>2015</td>\n",
       "      <td>30.984761</td>\n",
       "      <td>-1.881087</td>\n",
       "      <td>16.735706</td>\n",
       "      <td>16.641874</td>\n",
       "      <td>24.720451</td>\n",
       "      <td>...</td>\n",
       "      <td>1.778151</td>\n",
       "      <td>-1.181685</td>\n",
       "      <td>20.731792</td>\n",
       "      <td>13.416456</td>\n",
       "      <td>107.315336</td>\n",
       "      <td>13.862030</td>\n",
       "      <td>32.035862</td>\n",
       "      <td>16.385095</td>\n",
       "      <td>16.735706</td>\n",
       "      <td>4.300303</td>\n",
       "    </tr>\n",
       "  </tbody>\n",
       "</table>\n",
       "<p>5 rows × 23 columns</p>\n",
       "</div>"
      ],
      "text/plain": [
       "Series Name Country Name Country Code Org. międzynarodowa Waluta   Rok  \\\n",
       "0                 Angola          AGO               ECCAS    Wł.  2015   \n",
       "1                 Angola          AGO               ECCAS    Wł.  2016   \n",
       "2                 Angola          AGO               ECCAS    Wł.  2017   \n",
       "3                 Angola          AGO               ECCAS    Wł.  2018   \n",
       "4                  Benin          BEN              ECOWAS    XOF  2015   \n",
       "\n",
       "Series Name  Broad money (% of GDP)  \\\n",
       "0                         40.944660   \n",
       "1                         39.162308   \n",
       "2                         32.186521   \n",
       "3                         30.646441   \n",
       "4                         30.984761   \n",
       "\n",
       "Series Name  Claims on central government, etc. (% GDP)  \\\n",
       "0                                              1.223081   \n",
       "1                                              5.928448   \n",
       "2                                             12.273636   \n",
       "3                                              9.957990   \n",
       "4                                             -1.881087   \n",
       "\n",
       "Series Name  Domestic credit to private sector (% of GDP)  \\\n",
       "0                                               25.240108   \n",
       "1                                               21.098410   \n",
       "2                                               17.000685   \n",
       "3                                               14.935270   \n",
       "4                                               16.735706   \n",
       "\n",
       "Series Name  Domestic credit to private sector by banks (% of GDP)  \\\n",
       "0                                                    24.010776       \n",
       "1                                                    19.940831       \n",
       "2                                                    15.920022       \n",
       "3                                                    13.832310       \n",
       "4                                                    16.641874       \n",
       "\n",
       "Series Name  Exports of goods and services (% of GDP)  ...  \\\n",
       "0                                           29.754598  ...   \n",
       "1                                           28.124485  ...   \n",
       "2                                           29.004102  ...   \n",
       "3                                           40.836290  ...   \n",
       "4                                           24.720451  ...   \n",
       "\n",
       "Series Name  GDP growth (annual %)  GDP per capita growth (annual %)  \\\n",
       "0                         0.943572                         -2.642975   \n",
       "1                        -2.580111                         -6.011891   \n",
       "2                        -0.147150                         -3.630695   \n",
       "3                        -1.316362                         -4.676670   \n",
       "4                         1.778151                         -1.181685   \n",
       "\n",
       "Series Name  Gross capital formation (% of GDP)  \\\n",
       "0                                     34.202491   \n",
       "1                                     27.214709   \n",
       "2                                     24.130306   \n",
       "3                                     17.869421   \n",
       "4                                     20.731792   \n",
       "\n",
       "Series Name  Gross domestic savings (% of GDP)  \\\n",
       "0                                    30.823171   \n",
       "1                                    30.093516   \n",
       "2                                    29.881683   \n",
       "3                                    33.163991   \n",
       "4                                    13.416456   \n",
       "\n",
       "Series Name  Gross national expenditure (% of GDP)  Gross savings (% of GDP)  \\\n",
       "0                                       103.379320                 24.817555   \n",
       "1                                        97.121193                 24.017490   \n",
       "2                                        94.248623                 23.099669   \n",
       "3                                        84.705430                 25.099924   \n",
       "4                                       107.315336                 13.862030   \n",
       "\n",
       "Series Name  Imports of goods and services (% of GDP)  \\\n",
       "0                                           33.133918   \n",
       "1                                           25.245673   \n",
       "2                                           23.252720   \n",
       "3                                           25.541723   \n",
       "4                                           32.035862   \n",
       "\n",
       "Series Name  Industry (including construction), value added (% of GDP)  \\\n",
       "0                                                    41.933092           \n",
       "1                                                    42.643568           \n",
       "2                                                    42.167954           \n",
       "3                                                    47.931542           \n",
       "4                                                    16.385095           \n",
       "\n",
       "Series Name  Monetary Sector credit to private sector (% GDP)  \\\n",
       "0                                                   24.045538   \n",
       "1                                                   19.990007   \n",
       "2                                                   16.199090   \n",
       "3                                                   14.021780   \n",
       "4                                                   16.735706   \n",
       "\n",
       "Series Name  Total natural resources rents (% of GDP)  \n",
       "0                                           13.305675  \n",
       "1                                           20.885120  \n",
       "2                                           25.950330  \n",
       "3                                           32.045406  \n",
       "4                                            4.300303  \n",
       "\n",
       "[5 rows x 23 columns]"
      ]
     },
     "execution_count": 13,
     "metadata": {},
     "output_type": "execute_result"
    }
   ],
   "source": [
    "#Kolejna ranka danych w formacie ułatwiającym pokazanie danych na wykresie.\n",
    "df_p = df_m.pivot_table(index=['Country Name', 'Country Code', 'Org. międzynarodowa', 'Waluta', 'Rok'],\n",
    "                        columns='Series Name', values='Wartość serii', aggfunc='sum').reset_index()\n",
    "df_p.head()"
   ]
  },
  {
   "cell_type": "code",
   "execution_count": 45,
   "metadata": {},
   "outputs": [
    {
     "data": {
      "text/plain": [
       "Series Name\n",
       "Country Name                                                  object\n",
       "Country Code                                                  object\n",
       "Org. międzynarodowa                                           object\n",
       "Waluta                                                        object\n",
       "Rok                                                            int64\n",
       "Broad money (% of GDP)                                       float64\n",
       "Claims on central government, etc. (% GDP)                   float64\n",
       "Domestic credit to private sector (% of GDP)                 float64\n",
       "Domestic credit to private sector by banks (% of GDP)        float64\n",
       "Exports of goods and services (% of GDP)                     float64\n",
       "Final consumption expenditure (% of GDP)                     float64\n",
       "Foreign direct investment, net inflows (% of GDP)            float64\n",
       "Foreign direct investment, net outflows (% of GDP)           float64\n",
       "GDP growth (annual %)                                        float64\n",
       "GDP per capita growth (annual %)                             float64\n",
       "Gross capital formation (% of GDP)                           float64\n",
       "Gross domestic savings (% of GDP)                            float64\n",
       "Gross national expenditure (% of GDP)                        float64\n",
       "Gross savings (% of GDP)                                     float64\n",
       "Imports of goods and services (% of GDP)                     float64\n",
       "Industry (including construction), value added (% of GDP)    float64\n",
       "Monetary Sector credit to private sector (% GDP)             float64\n",
       "Total natural resources rents (% of GDP)                     float64\n",
       "dtype: object"
      ]
     },
     "execution_count": 45,
     "metadata": {},
     "output_type": "execute_result"
    }
   ],
   "source": [
    "df_p.dtypes"
   ]
  },
  {
   "cell_type": "code",
   "execution_count": 9,
   "metadata": {},
   "outputs": [
    {
     "data": {
      "text/plain": [
       "Country Name            0\n",
       "Country Code            0\n",
       "Series Name             0\n",
       "2015                   33\n",
       "2016                   33\n",
       "2017                   29\n",
       "2018                   30\n",
       "Org. międzynarodowa     0\n",
       "Waluta                  0\n",
       "dtype: int64"
      ]
     },
     "execution_count": 9,
     "metadata": {},
     "output_type": "execute_result"
    }
   ],
   "source": [
    "#Sprawdzenie liczby braków danych.\n",
    "df.isna().sum()"
   ]
  },
  {
   "cell_type": "code",
   "execution_count": 17,
   "metadata": {},
   "outputs": [
    {
     "data": {
      "application/vnd.plotly.v1+json": {
       "config": {
        "plotlyServerURL": "https://plot.ly"
       },
       "data": [
        {
         "branchvalues": "total",
         "customdata": [
          [
           1
          ],
          [
           8
          ],
          [
           8
          ],
          [
           2
          ],
          [
           8
          ],
          [
           3
          ],
          [
           10
          ],
          [
           28
          ],
          [
           28
          ],
          [
           28
          ],
          [
           1
          ],
          [
           27.06896551724138
          ],
          [
           24.91044776119403
          ],
          [
           7.068965517241379
          ],
          [
           17.06896551724138
          ],
          [
           24.91044776119403
          ]
         ],
         "domain": {
          "x": [
           0,
           1
          ],
          "y": [
           0,
           1
          ]
         },
         "hovertemplate": "labels=%{label}<br>Braki_sum=%{value}<br>parent=%{parent}<br>id=%{id}<br>Braki=%{color}<extra></extra>",
         "ids": [
          "ECCAS/Wł./Burundi",
          "ECCAS/XAF/Central African Republic",
          "ECCAS/XAF/Chad",
          "ECCAS/XAF/Congo, Rep.",
          "ECCAS/XAF/Equatorial Guinea",
          "ECCAS/XAF/Gabon",
          "ECOWAS/Wł./Gambia, The",
          "ECOWAS/Wł./Liberia",
          "ECOWAS/Wł./Nigeria",
          "ECCAS/Wł./Sao Tome and Principe",
          "ECOWAS/Wł./Sierra Leone",
          "ECCAS/Wł.",
          "ECOWAS/Wł.",
          "ECCAS/XAF",
          "ECCAS",
          "ECOWAS"
         ],
         "labels": [
          "Burundi",
          "Central African Republic",
          "Chad",
          "Congo, Rep.",
          "Equatorial Guinea",
          "Gabon",
          "Gambia, The",
          "Liberia",
          "Nigeria",
          "Sao Tome and Principe",
          "Sierra Leone",
          "Wł.",
          "Wł.",
          "XAF",
          "ECCAS",
          "ECOWAS"
         ],
         "marker": {
          "coloraxis": "coloraxis",
          "colors": [
           1,
           8,
           8,
           2,
           8,
           3,
           10,
           28,
           28,
           28,
           1,
           27.06896551724138,
           24.91044776119403,
           7.068965517241379,
           17.06896551724138,
           24.91044776119403
          ]
         },
         "name": "",
         "parents": [
          "ECCAS/Wł.",
          "ECCAS/XAF",
          "ECCAS/XAF",
          "ECCAS/XAF",
          "ECCAS/XAF",
          "ECCAS/XAF",
          "ECOWAS/Wł.",
          "ECOWAS/Wł.",
          "ECOWAS/Wł.",
          "ECCAS/Wł.",
          "ECOWAS/Wł.",
          "ECCAS",
          "ECOWAS",
          "ECCAS",
          "",
          ""
         ],
         "type": "sunburst",
         "values": [
          1,
          8,
          8,
          2,
          8,
          3,
          10,
          28,
          28,
          28,
          1,
          29,
          67,
          29,
          58,
          67
         ]
        }
       ],
       "layout": {
        "coloraxis": {
         "colorbar": {
          "title": {
           "text": "Braki"
          }
         },
         "colorscale": [
          [
           0,
           "rgb(255,245,240)"
          ],
          [
           0.125,
           "rgb(254,224,210)"
          ],
          [
           0.25,
           "rgb(252,187,161)"
          ],
          [
           0.375,
           "rgb(252,146,114)"
          ],
          [
           0.5,
           "rgb(251,106,74)"
          ],
          [
           0.625,
           "rgb(239,59,44)"
          ],
          [
           0.75,
           "rgb(203,24,29)"
          ],
          [
           0.875,
           "rgb(165,15,21)"
          ],
          [
           1,
           "rgb(103,0,13)"
          ]
         ]
        },
        "height": 700,
        "legend": {
         "tracegroupgap": 0
        },
        "template": {
         "data": {
          "bar": [
           {
            "error_x": {
             "color": "#2a3f5f"
            },
            "error_y": {
             "color": "#2a3f5f"
            },
            "marker": {
             "line": {
              "color": "#E5ECF6",
              "width": 0.5
             },
             "pattern": {
              "fillmode": "overlay",
              "size": 10,
              "solidity": 0.2
             }
            },
            "type": "bar"
           }
          ],
          "barpolar": [
           {
            "marker": {
             "line": {
              "color": "#E5ECF6",
              "width": 0.5
             },
             "pattern": {
              "fillmode": "overlay",
              "size": 10,
              "solidity": 0.2
             }
            },
            "type": "barpolar"
           }
          ],
          "carpet": [
           {
            "aaxis": {
             "endlinecolor": "#2a3f5f",
             "gridcolor": "white",
             "linecolor": "white",
             "minorgridcolor": "white",
             "startlinecolor": "#2a3f5f"
            },
            "baxis": {
             "endlinecolor": "#2a3f5f",
             "gridcolor": "white",
             "linecolor": "white",
             "minorgridcolor": "white",
             "startlinecolor": "#2a3f5f"
            },
            "type": "carpet"
           }
          ],
          "choropleth": [
           {
            "colorbar": {
             "outlinewidth": 0,
             "ticks": ""
            },
            "type": "choropleth"
           }
          ],
          "contour": [
           {
            "colorbar": {
             "outlinewidth": 0,
             "ticks": ""
            },
            "colorscale": [
             [
              0,
              "#0d0887"
             ],
             [
              0.1111111111111111,
              "#46039f"
             ],
             [
              0.2222222222222222,
              "#7201a8"
             ],
             [
              0.3333333333333333,
              "#9c179e"
             ],
             [
              0.4444444444444444,
              "#bd3786"
             ],
             [
              0.5555555555555556,
              "#d8576b"
             ],
             [
              0.6666666666666666,
              "#ed7953"
             ],
             [
              0.7777777777777778,
              "#fb9f3a"
             ],
             [
              0.8888888888888888,
              "#fdca26"
             ],
             [
              1,
              "#f0f921"
             ]
            ],
            "type": "contour"
           }
          ],
          "contourcarpet": [
           {
            "colorbar": {
             "outlinewidth": 0,
             "ticks": ""
            },
            "type": "contourcarpet"
           }
          ],
          "heatmap": [
           {
            "colorbar": {
             "outlinewidth": 0,
             "ticks": ""
            },
            "colorscale": [
             [
              0,
              "#0d0887"
             ],
             [
              0.1111111111111111,
              "#46039f"
             ],
             [
              0.2222222222222222,
              "#7201a8"
             ],
             [
              0.3333333333333333,
              "#9c179e"
             ],
             [
              0.4444444444444444,
              "#bd3786"
             ],
             [
              0.5555555555555556,
              "#d8576b"
             ],
             [
              0.6666666666666666,
              "#ed7953"
             ],
             [
              0.7777777777777778,
              "#fb9f3a"
             ],
             [
              0.8888888888888888,
              "#fdca26"
             ],
             [
              1,
              "#f0f921"
             ]
            ],
            "type": "heatmap"
           }
          ],
          "heatmapgl": [
           {
            "colorbar": {
             "outlinewidth": 0,
             "ticks": ""
            },
            "colorscale": [
             [
              0,
              "#0d0887"
             ],
             [
              0.1111111111111111,
              "#46039f"
             ],
             [
              0.2222222222222222,
              "#7201a8"
             ],
             [
              0.3333333333333333,
              "#9c179e"
             ],
             [
              0.4444444444444444,
              "#bd3786"
             ],
             [
              0.5555555555555556,
              "#d8576b"
             ],
             [
              0.6666666666666666,
              "#ed7953"
             ],
             [
              0.7777777777777778,
              "#fb9f3a"
             ],
             [
              0.8888888888888888,
              "#fdca26"
             ],
             [
              1,
              "#f0f921"
             ]
            ],
            "type": "heatmapgl"
           }
          ],
          "histogram": [
           {
            "marker": {
             "pattern": {
              "fillmode": "overlay",
              "size": 10,
              "solidity": 0.2
             }
            },
            "type": "histogram"
           }
          ],
          "histogram2d": [
           {
            "colorbar": {
             "outlinewidth": 0,
             "ticks": ""
            },
            "colorscale": [
             [
              0,
              "#0d0887"
             ],
             [
              0.1111111111111111,
              "#46039f"
             ],
             [
              0.2222222222222222,
              "#7201a8"
             ],
             [
              0.3333333333333333,
              "#9c179e"
             ],
             [
              0.4444444444444444,
              "#bd3786"
             ],
             [
              0.5555555555555556,
              "#d8576b"
             ],
             [
              0.6666666666666666,
              "#ed7953"
             ],
             [
              0.7777777777777778,
              "#fb9f3a"
             ],
             [
              0.8888888888888888,
              "#fdca26"
             ],
             [
              1,
              "#f0f921"
             ]
            ],
            "type": "histogram2d"
           }
          ],
          "histogram2dcontour": [
           {
            "colorbar": {
             "outlinewidth": 0,
             "ticks": ""
            },
            "colorscale": [
             [
              0,
              "#0d0887"
             ],
             [
              0.1111111111111111,
              "#46039f"
             ],
             [
              0.2222222222222222,
              "#7201a8"
             ],
             [
              0.3333333333333333,
              "#9c179e"
             ],
             [
              0.4444444444444444,
              "#bd3786"
             ],
             [
              0.5555555555555556,
              "#d8576b"
             ],
             [
              0.6666666666666666,
              "#ed7953"
             ],
             [
              0.7777777777777778,
              "#fb9f3a"
             ],
             [
              0.8888888888888888,
              "#fdca26"
             ],
             [
              1,
              "#f0f921"
             ]
            ],
            "type": "histogram2dcontour"
           }
          ],
          "mesh3d": [
           {
            "colorbar": {
             "outlinewidth": 0,
             "ticks": ""
            },
            "type": "mesh3d"
           }
          ],
          "parcoords": [
           {
            "line": {
             "colorbar": {
              "outlinewidth": 0,
              "ticks": ""
             }
            },
            "type": "parcoords"
           }
          ],
          "pie": [
           {
            "automargin": true,
            "type": "pie"
           }
          ],
          "scatter": [
           {
            "fillpattern": {
             "fillmode": "overlay",
             "size": 10,
             "solidity": 0.2
            },
            "type": "scatter"
           }
          ],
          "scatter3d": [
           {
            "line": {
             "colorbar": {
              "outlinewidth": 0,
              "ticks": ""
             }
            },
            "marker": {
             "colorbar": {
              "outlinewidth": 0,
              "ticks": ""
             }
            },
            "type": "scatter3d"
           }
          ],
          "scattercarpet": [
           {
            "marker": {
             "colorbar": {
              "outlinewidth": 0,
              "ticks": ""
             }
            },
            "type": "scattercarpet"
           }
          ],
          "scattergeo": [
           {
            "marker": {
             "colorbar": {
              "outlinewidth": 0,
              "ticks": ""
             }
            },
            "type": "scattergeo"
           }
          ],
          "scattergl": [
           {
            "marker": {
             "colorbar": {
              "outlinewidth": 0,
              "ticks": ""
             }
            },
            "type": "scattergl"
           }
          ],
          "scattermapbox": [
           {
            "marker": {
             "colorbar": {
              "outlinewidth": 0,
              "ticks": ""
             }
            },
            "type": "scattermapbox"
           }
          ],
          "scatterpolar": [
           {
            "marker": {
             "colorbar": {
              "outlinewidth": 0,
              "ticks": ""
             }
            },
            "type": "scatterpolar"
           }
          ],
          "scatterpolargl": [
           {
            "marker": {
             "colorbar": {
              "outlinewidth": 0,
              "ticks": ""
             }
            },
            "type": "scatterpolargl"
           }
          ],
          "scatterternary": [
           {
            "marker": {
             "colorbar": {
              "outlinewidth": 0,
              "ticks": ""
             }
            },
            "type": "scatterternary"
           }
          ],
          "surface": [
           {
            "colorbar": {
             "outlinewidth": 0,
             "ticks": ""
            },
            "colorscale": [
             [
              0,
              "#0d0887"
             ],
             [
              0.1111111111111111,
              "#46039f"
             ],
             [
              0.2222222222222222,
              "#7201a8"
             ],
             [
              0.3333333333333333,
              "#9c179e"
             ],
             [
              0.4444444444444444,
              "#bd3786"
             ],
             [
              0.5555555555555556,
              "#d8576b"
             ],
             [
              0.6666666666666666,
              "#ed7953"
             ],
             [
              0.7777777777777778,
              "#fb9f3a"
             ],
             [
              0.8888888888888888,
              "#fdca26"
             ],
             [
              1,
              "#f0f921"
             ]
            ],
            "type": "surface"
           }
          ],
          "table": [
           {
            "cells": {
             "fill": {
              "color": "#EBF0F8"
             },
             "line": {
              "color": "white"
             }
            },
            "header": {
             "fill": {
              "color": "#C8D4E3"
             },
             "line": {
              "color": "white"
             }
            },
            "type": "table"
           }
          ]
         },
         "layout": {
          "annotationdefaults": {
           "arrowcolor": "#2a3f5f",
           "arrowhead": 0,
           "arrowwidth": 1
          },
          "autotypenumbers": "strict",
          "coloraxis": {
           "colorbar": {
            "outlinewidth": 0,
            "ticks": ""
           }
          },
          "colorscale": {
           "diverging": [
            [
             0,
             "#8e0152"
            ],
            [
             0.1,
             "#c51b7d"
            ],
            [
             0.2,
             "#de77ae"
            ],
            [
             0.3,
             "#f1b6da"
            ],
            [
             0.4,
             "#fde0ef"
            ],
            [
             0.5,
             "#f7f7f7"
            ],
            [
             0.6,
             "#e6f5d0"
            ],
            [
             0.7,
             "#b8e186"
            ],
            [
             0.8,
             "#7fbc41"
            ],
            [
             0.9,
             "#4d9221"
            ],
            [
             1,
             "#276419"
            ]
           ],
           "sequential": [
            [
             0,
             "#0d0887"
            ],
            [
             0.1111111111111111,
             "#46039f"
            ],
            [
             0.2222222222222222,
             "#7201a8"
            ],
            [
             0.3333333333333333,
             "#9c179e"
            ],
            [
             0.4444444444444444,
             "#bd3786"
            ],
            [
             0.5555555555555556,
             "#d8576b"
            ],
            [
             0.6666666666666666,
             "#ed7953"
            ],
            [
             0.7777777777777778,
             "#fb9f3a"
            ],
            [
             0.8888888888888888,
             "#fdca26"
            ],
            [
             1,
             "#f0f921"
            ]
           ],
           "sequentialminus": [
            [
             0,
             "#0d0887"
            ],
            [
             0.1111111111111111,
             "#46039f"
            ],
            [
             0.2222222222222222,
             "#7201a8"
            ],
            [
             0.3333333333333333,
             "#9c179e"
            ],
            [
             0.4444444444444444,
             "#bd3786"
            ],
            [
             0.5555555555555556,
             "#d8576b"
            ],
            [
             0.6666666666666666,
             "#ed7953"
            ],
            [
             0.7777777777777778,
             "#fb9f3a"
            ],
            [
             0.8888888888888888,
             "#fdca26"
            ],
            [
             1,
             "#f0f921"
            ]
           ]
          },
          "colorway": [
           "#636efa",
           "#EF553B",
           "#00cc96",
           "#ab63fa",
           "#FFA15A",
           "#19d3f3",
           "#FF6692",
           "#B6E880",
           "#FF97FF",
           "#FECB52"
          ],
          "font": {
           "color": "#2a3f5f"
          },
          "geo": {
           "bgcolor": "white",
           "lakecolor": "white",
           "landcolor": "#E5ECF6",
           "showlakes": true,
           "showland": true,
           "subunitcolor": "white"
          },
          "hoverlabel": {
           "align": "left"
          },
          "hovermode": "closest",
          "mapbox": {
           "style": "light"
          },
          "paper_bgcolor": "white",
          "plot_bgcolor": "#E5ECF6",
          "polar": {
           "angularaxis": {
            "gridcolor": "white",
            "linecolor": "white",
            "ticks": ""
           },
           "bgcolor": "#E5ECF6",
           "radialaxis": {
            "gridcolor": "white",
            "linecolor": "white",
            "ticks": ""
           }
          },
          "scene": {
           "xaxis": {
            "backgroundcolor": "#E5ECF6",
            "gridcolor": "white",
            "gridwidth": 2,
            "linecolor": "white",
            "showbackground": true,
            "ticks": "",
            "zerolinecolor": "white"
           },
           "yaxis": {
            "backgroundcolor": "#E5ECF6",
            "gridcolor": "white",
            "gridwidth": 2,
            "linecolor": "white",
            "showbackground": true,
            "ticks": "",
            "zerolinecolor": "white"
           },
           "zaxis": {
            "backgroundcolor": "#E5ECF6",
            "gridcolor": "white",
            "gridwidth": 2,
            "linecolor": "white",
            "showbackground": true,
            "ticks": "",
            "zerolinecolor": "white"
           }
          },
          "shapedefaults": {
           "line": {
            "color": "#2a3f5f"
           }
          },
          "ternary": {
           "aaxis": {
            "gridcolor": "white",
            "linecolor": "white",
            "ticks": ""
           },
           "baxis": {
            "gridcolor": "white",
            "linecolor": "white",
            "ticks": ""
           },
           "bgcolor": "#E5ECF6",
           "caxis": {
            "gridcolor": "white",
            "linecolor": "white",
            "ticks": ""
           }
          },
          "title": {
           "x": 0.05
          },
          "xaxis": {
           "automargin": true,
           "gridcolor": "white",
           "linecolor": "white",
           "ticks": "",
           "title": {
            "standoff": 15
           },
           "zerolinecolor": "white",
           "zerolinewidth": 2
          },
          "yaxis": {
           "automargin": true,
           "gridcolor": "white",
           "linecolor": "white",
           "ticks": "",
           "title": {
            "standoff": 15
           },
           "zerolinecolor": "white",
           "zerolinewidth": 2
          }
         }
        },
        "title": {
         "text": "Ilość braków danych dla poszczególnych państw"
        },
        "width": 700
       }
      }
     },
     "metadata": {},
     "output_type": "display_data"
    }
   ],
   "source": [
    "#Wykres ilustrujący braki danych.\n",
    "df[\"Braki\"] = df.iloc[:, 3:7].isna().sum(axis=1)\n",
    "df_b = df[df[\"Braki\"] != 0]\n",
    "df_b = df_b.groupby(\"Country Name\").agg({'Braki': 'sum', 'Org. międzynarodowa': 'first', 'Waluta': 'first'}).reset_index()\n",
    "\n",
    "fig = px.sunburst(df_b, \n",
    "                  path=[\"Org. międzynarodowa\", \"Waluta\", \"Country Name\"],\n",
    "                  values=\"Braki\",\n",
    "                  title=\"Ilość braków danych dla poszczególnych państw\",\n",
    "                  color = \"Braki\",\n",
    "                  color_continuous_scale=\"Reds\",\n",
    "                  width=700, height=700)\n",
    "fig.show()"
   ]
  },
  {
   "cell_type": "markdown",
   "metadata": {},
   "source": [
    "Z powyższego wykresu wynika, że państwa posiadające własną walutę mają mniej dokładne raportowanie danych makroekonomicznych. Warto również zwrócić uwagę że nie występują żadne braki danych dla państw posiadających XOF, co można interpretować jako bardziej rzetelne podejście do raportowania danych przez państwa posiadające Zachodnioafrykańskiego Franka CFA."
   ]
  },
  {
   "cell_type": "code",
   "execution_count": 12,
   "metadata": {},
   "outputs": [
    {
     "data": {
      "image/png": "[encoded data removed]",
      "text/plain": [
       "<Figure size 1000x400 with 2 Axes>"
      ]
     },
     "metadata": {},
     "output_type": "display_data"
    }
   ],
   "source": [
    "#Wykres ilustrujący wzrost PKB dla badanych państw w latach 2015 - 2018.\n",
    "plt.figure(figsize=(10,4))\n",
    "plt.subplot(1,2,1)\n",
    "plt.title(\"Roczny średni wzrost PKB\\npaństw Afryki Zachodniej i Środkowej\")\n",
    "sns.barplot(data=df_m[df_m[\"Series Name\"] == \"GDP growth (annual %)\"],\n",
    "            y='Wartość serii', x='Rok',\n",
    "            hue='Org. międzynarodowa',\n",
    "            palette='dark',\n",
    "            saturation=1,\n",
    "            errwidth=0)\n",
    "plt.ylabel(\"Średni wzrost % PKB\")\n",
    "\n",
    "plt.subplot(1,2,2)\n",
    "plt.title(\"Rozrzut rocznego wzrostu PKB\\npaństw Afryki Zachodniej i Środkowej\")\n",
    "sns.scatterplot(data=df_m[df_m[\"Series Name\"] == \"GDP growth (annual %)\"],\n",
    "               x='Rok', y='Wartość serii',\n",
    "               hue='Org. międzynarodowa',\n",
    "               palette='dark'\n",
    "               )\n",
    "plt.xticks(ticks = [2015, 2016, 2017, 2018],\n",
    "           labels = [\"2015\", \"2016\", \"2017\", \"2018\"])\n",
    "plt.ylabel(\"Wzrost % PKB\")\n",
    "\n",
    "plt.show()"
   ]
  },
  {
   "cell_type": "markdown",
   "metadata": {},
   "source": [
    "Państwa zachodnioafrykańskie średnio rozwijały się szybciej przez cały badany okres. Jedynie w 2015 roku różnica we wzroście PKB była niewielka, choć wpływało na to jedno państwo, które zanotowało 20-procentowy spadek PKB. Państwa środkowoafrykańskie radziły sobie słabiej w rozwoju gospodarczym i przez lata 2016 - 2018, 3 z tych krajów zajmowały najniższe pozycje we wzroście PKB."
   ]
  },
  {
   "cell_type": "code",
   "execution_count": 16,
   "metadata": {},
   "outputs": [
    {
     "data": {
      "application/vnd.plotly.v1+json": {
       "config": {
        "plotlyServerURL": "https://plot.ly"
       },
       "data": [
        {
         "dimensions": [
          {
           "label": "Org. międzynarodowa",
           "values": [
            "ECCAS",
            "ECCAS",
            "ECCAS",
            "ECCAS",
            "ECOWAS",
            "ECOWAS",
            "ECOWAS",
            "ECOWAS",
            "ECOWAS",
            "ECOWAS",
            "ECOWAS",
            "ECOWAS",
            "ECCAS",
            "ECCAS",
            "ECCAS",
            "ECCAS",
            "ECOWAS",
            "ECOWAS",
            "ECOWAS",
            "ECOWAS",
            "ECCAS",
            "ECCAS",
            "ECCAS",
            "ECCAS",
            "ECCAS",
            "ECCAS",
            "ECCAS",
            "ECCAS",
            "ECCAS",
            "ECCAS",
            "ECCAS",
            "ECCAS",
            "ECCAS",
            "ECCAS",
            "ECCAS",
            "ECCAS",
            "ECCAS",
            "ECCAS",
            "ECCAS",
            "ECCAS",
            "ECOWAS",
            "ECOWAS",
            "ECOWAS",
            "ECOWAS",
            "ECCAS",
            "ECCAS",
            "ECCAS",
            "ECCAS",
            "ECCAS",
            "ECCAS",
            "ECCAS",
            "ECCAS",
            "ECOWAS",
            "ECOWAS",
            "ECOWAS",
            "ECOWAS",
            "ECOWAS",
            "ECOWAS",
            "ECOWAS",
            "ECOWAS",
            "ECOWAS",
            "ECOWAS",
            "ECOWAS",
            "ECOWAS",
            "ECOWAS",
            "ECOWAS",
            "ECOWAS",
            "ECOWAS",
            "ECOWAS",
            "ECOWAS",
            "ECOWAS",
            "ECOWAS",
            "ECOWAS",
            "ECOWAS",
            "ECOWAS",
            "ECOWAS",
            "ECOWAS",
            "ECOWAS",
            "ECOWAS",
            "ECOWAS",
            "ECOWAS",
            "ECOWAS",
            "ECOWAS",
            "ECOWAS",
            "ECCAS",
            "ECCAS",
            "ECCAS",
            "ECCAS",
            "ECCAS",
            "ECCAS",
            "ECCAS",
            "ECCAS",
            "ECOWAS",
            "ECOWAS",
            "ECOWAS",
            "ECOWAS",
            "ECOWAS",
            "ECOWAS",
            "ECOWAS",
            "ECOWAS",
            "ECOWAS",
            "ECOWAS",
            "ECOWAS",
            "ECOWAS"
           ]
          },
          {
           "label": "Waluta",
           "values": [
            "Wł.",
            "Wł.",
            "Wł.",
            "Wł.",
            "XOF",
            "XOF",
            "XOF",
            "XOF",
            "XOF",
            "XOF",
            "XOF",
            "XOF",
            "Wł.",
            "Wł.",
            "Wł.",
            "Wł.",
            "Wł.",
            "Wł.",
            "Wł.",
            "Wł.",
            "XAF",
            "XAF",
            "XAF",
            "XAF",
            "XAF",
            "XAF",
            "XAF",
            "XAF",
            "XAF",
            "XAF",
            "XAF",
            "XAF",
            "Wł.",
            "Wł.",
            "Wł.",
            "Wł.",
            "XAF",
            "XAF",
            "XAF",
            "XAF",
            "XOF",
            "XOF",
            "XOF",
            "XOF",
            "XAF",
            "XAF",
            "XAF",
            "XAF",
            "XAF",
            "XAF",
            "XAF",
            "XAF",
            "Wł.",
            "Wł.",
            "Wł.",
            "Wł.",
            "Wł.",
            "Wł.",
            "Wł.",
            "Wł.",
            "Wł.",
            "Wł.",
            "Wł.",
            "Wł.",
            "XOF",
            "XOF",
            "XOF",
            "XOF",
            "Wł.",
            "Wł.",
            "Wł.",
            "Wł.",
            "XOF",
            "XOF",
            "XOF",
            "XOF",
            "XOF",
            "XOF",
            "XOF",
            "XOF",
            "Wł.",
            "Wł.",
            "Wł.",
            "Wł.",
            "Wł.",
            "Wł.",
            "Wł.",
            "Wł.",
            "Wł.",
            "Wł.",
            "Wł.",
            "Wł.",
            "XOF",
            "XOF",
            "XOF",
            "XOF",
            "Wł.",
            "Wł.",
            "Wł.",
            "Wł.",
            "XOF",
            "XOF",
            "XOF",
            "XOF"
           ]
          },
          {
           "label": "Rok",
           "values": [
            2015,
            2016,
            2017,
            2018,
            2015,
            2016,
            2017,
            2018,
            2015,
            2016,
            2017,
            2018,
            2015,
            2016,
            2017,
            2018,
            2015,
            2016,
            2017,
            2018,
            2015,
            2016,
            2017,
            2018,
            2015,
            2016,
            2017,
            2018,
            2015,
            2016,
            2017,
            2018,
            2015,
            2016,
            2017,
            2018,
            2015,
            2016,
            2017,
            2018,
            2015,
            2016,
            2017,
            2018,
            2015,
            2016,
            2017,
            2018,
            2015,
            2016,
            2017,
            2018,
            2015,
            2016,
            2017,
            2018,
            2015,
            2016,
            2017,
            2018,
            2015,
            2016,
            2017,
            2018,
            2015,
            2016,
            2017,
            2018,
            2015,
            2016,
            2017,
            2018,
            2015,
            2016,
            2017,
            2018,
            2015,
            2016,
            2017,
            2018,
            2015,
            2016,
            2017,
            2018,
            2015,
            2016,
            2017,
            2018,
            2015,
            2016,
            2017,
            2018,
            2015,
            2016,
            2017,
            2018,
            2015,
            2016,
            2017,
            2018,
            2015,
            2016,
            2017,
            2018
           ]
          }
         ],
         "domain": {
          "x": [
           0,
           1
          ],
          "y": [
           0,
           1
          ]
         },
         "line": {
          "color": [
           0.9435715613250011,
           -2.5801112218828024,
           -0.14714982544920474,
           -1.3163616889689536,
           1.7781510603027755,
           3.339673426296926,
           5.671561951504444,
           6.697253621808883,
           3.921228793793503,
           5.95797670754024,
           6.203489411218683,
           6.604569068123411,
           -3.9000000804854977,
           -0.6000009091163889,
           0.5000012624292793,
           1.609935421277143,
           0.9360265078088332,
           4.280714826623708,
           4.551314810297399,
           3.706964583108416,
           5.666952987039323,
           4.535794236788007,
           3.541176549260072,
           3.955514238920486,
           4.3371210302023115,
           4.750316841223423,
           4.52727821346231,
           3.7894435927546226,
           2.7676756848447326,
           -6.255527085452812,
           -2.9886959855393087,
           2.374037800377863,
           6.916167119225605,
           2.399398911334515,
           3.726947658830099,
           5.821121099690245,
           0.4151930612937633,
           -8.685243439137864,
           -5.594773719155469,
           -2.3043178012584207,
           7.194949427281912,
           7.172759639563324,
           7.410762426269528,
           4.843146059517679,
           -9.11004114881537,
           -8.816417232197566,
           -5.667508504866859,
           -6.236544067345747,
           3.8788993950789035,
           2.091442208295618,
           0.4726420309111461,
           0.8379165808215703,
           4.058073803999605,
           1.9433596547877556,
           4.822611249275695,
           7.234890332585792,
           2.120759338173343,
           3.3734657496693643,
           8.128894881009558,
           6.200077681272845,
           3.825910569470082,
           10.820627196523944,
           10.300005342678759,
           6.358491926502722,
           6.134082941132917,
           6.262805637804632,
           5.919176625860473,
           1.2837367030946467,
           -0.018564969559093925,
           -1.5549586174877987,
           2.455155920122394,
           1.1575751220735526,
           6.171800024249777,
           5.852299199414148,
           5.30545608438166,
           4.746484327245611,
           4.392648832072908,
           5.74089315058157,
           5.005360785459516,
           7.211418028702425,
           2.6526932954300264,
           -1.6168689490652923,
           0.8058866191022105,
           1.9227573420065056,
           8.856841998324043,
           5.970756204272561,
           3.9288755856289725,
           8.536158375219685,
           1.5396921689366536,
           5.17682174955398,
           4.11296860682981,
           4.378139399391955,
           6.367043650669828,
           6.356068572081355,
           7.407486185895976,
           6.209241033888873,
           -20.4910741068,
           6.346727851935867,
           3.753803214003625,
           3.4729026201246143,
           5.468031293006021,
           4.214895609185021,
           4.007912595669367,
           4.795183330861391
          ],
          "coloraxis": "coloraxis"
         },
         "name": "",
         "type": "parcats"
        }
       ],
       "layout": {
        "coloraxis": {
         "colorbar": {
          "title": {
           "text": "GDP growth (annual %)"
          }
         },
         "colorscale": [
          [
           0,
           "darkred"
          ],
          [
           0.5905483680900165,
           "red"
          ],
          [
           0.5905483680900165,
           "yellow"
          ],
          [
           0.7182961375660678,
           "yellow"
          ],
          [
           0.7182961375660678,
           "#AAFF00"
          ],
          [
           1,
           "darkgreen"
          ]
         ]
        },
        "legend": {
         "tracegroupgap": 0
        },
        "template": {
         "data": {
          "bar": [
           {
            "error_x": {
             "color": "#2a3f5f"
            },
            "error_y": {
             "color": "#2a3f5f"
            },
            "marker": {
             "line": {
              "color": "#E5ECF6",
              "width": 0.5
             },
             "pattern": {
              "fillmode": "overlay",
              "size": 10,
              "solidity": 0.2
             }
            },
            "type": "bar"
           }
          ],
          "barpolar": [
           {
            "marker": {
             "line": {
              "color": "#E5ECF6",
              "width": 0.5
             },
             "pattern": {
              "fillmode": "overlay",
              "size": 10,
              "solidity": 0.2
             }
            },
            "type": "barpolar"
           }
          ],
          "carpet": [
           {
            "aaxis": {
             "endlinecolor": "#2a3f5f",
             "gridcolor": "white",
             "linecolor": "white",
             "minorgridcolor": "white",
             "startlinecolor": "#2a3f5f"
            },
            "baxis": {
             "endlinecolor": "#2a3f5f",
             "gridcolor": "white",
             "linecolor": "white",
             "minorgridcolor": "white",
             "startlinecolor": "#2a3f5f"
            },
            "type": "carpet"
           }
          ],
          "choropleth": [
           {
            "colorbar": {
             "outlinewidth": 0,
             "ticks": ""
            },
            "type": "choropleth"
           }
          ],
          "contour": [
           {
            "colorbar": {
             "outlinewidth": 0,
             "ticks": ""
            },
            "colorscale": [
             [
              0,
              "#0d0887"
             ],
             [
              0.1111111111111111,
              "#46039f"
             ],
             [
              0.2222222222222222,
              "#7201a8"
             ],
             [
              0.3333333333333333,
              "#9c179e"
             ],
             [
              0.4444444444444444,
              "#bd3786"
             ],
             [
              0.5555555555555556,
              "#d8576b"
             ],
             [
              0.6666666666666666,
              "#ed7953"
             ],
             [
              0.7777777777777778,
              "#fb9f3a"
             ],
             [
              0.8888888888888888,
              "#fdca26"
             ],
             [
              1,
              "#f0f921"
             ]
            ],
            "type": "contour"
           }
          ],
          "contourcarpet": [
           {
            "colorbar": {
             "outlinewidth": 0,
             "ticks": ""
            },
            "type": "contourcarpet"
           }
          ],
          "heatmap": [
           {
            "colorbar": {
             "outlinewidth": 0,
             "ticks": ""
            },
            "colorscale": [
             [
              0,
              "#0d0887"
             ],
             [
              0.1111111111111111,
              "#46039f"
             ],
             [
              0.2222222222222222,
              "#7201a8"
             ],
             [
              0.3333333333333333,
              "#9c179e"
             ],
             [
              0.4444444444444444,
              "#bd3786"
             ],
             [
              0.5555555555555556,
              "#d8576b"
             ],
             [
              0.6666666666666666,
              "#ed7953"
             ],
             [
              0.7777777777777778,
              "#fb9f3a"
             ],
             [
              0.8888888888888888,
              "#fdca26"
             ],
             [
              1,
              "#f0f921"
             ]
            ],
            "type": "heatmap"
           }
          ],
          "heatmapgl": [
           {
            "colorbar": {
             "outlinewidth": 0,
             "ticks": ""
            },
            "colorscale": [
             [
              0,
              "#0d0887"
             ],
             [
              0.1111111111111111,
              "#46039f"
             ],
             [
              0.2222222222222222,
              "#7201a8"
             ],
             [
              0.3333333333333333,
              "#9c179e"
             ],
             [
              0.4444444444444444,
              "#bd3786"
             ],
             [
              0.5555555555555556,
              "#d8576b"
             ],
             [
              0.6666666666666666,
              "#ed7953"
             ],
             [
              0.7777777777777778,
              "#fb9f3a"
             ],
             [
              0.8888888888888888,
              "#fdca26"
             ],
             [
              1,
              "#f0f921"
             ]
            ],
            "type": "heatmapgl"
           }
          ],
          "histogram": [
           {
            "marker": {
             "pattern": {
              "fillmode": "overlay",
              "size": 10,
              "solidity": 0.2
             }
            },
            "type": "histogram"
           }
          ],
          "histogram2d": [
           {
            "colorbar": {
             "outlinewidth": 0,
             "ticks": ""
            },
            "colorscale": [
             [
              0,
              "#0d0887"
             ],
             [
              0.1111111111111111,
              "#46039f"
             ],
             [
              0.2222222222222222,
              "#7201a8"
             ],
             [
              0.3333333333333333,
              "#9c179e"
             ],
             [
              0.4444444444444444,
              "#bd3786"
             ],
             [
              0.5555555555555556,
              "#d8576b"
             ],
             [
              0.6666666666666666,
              "#ed7953"
             ],
             [
              0.7777777777777778,
              "#fb9f3a"
             ],
             [
              0.8888888888888888,
              "#fdca26"
             ],
             [
              1,
              "#f0f921"
             ]
            ],
            "type": "histogram2d"
           }
          ],
          "histogram2dcontour": [
           {
            "colorbar": {
             "outlinewidth": 0,
             "ticks": ""
            },
            "colorscale": [
             [
              0,
              "#0d0887"
             ],
             [
              0.1111111111111111,
              "#46039f"
             ],
             [
              0.2222222222222222,
              "#7201a8"
             ],
             [
              0.3333333333333333,
              "#9c179e"
             ],
             [
              0.4444444444444444,
              "#bd3786"
             ],
             [
              0.5555555555555556,
              "#d8576b"
             ],
             [
              0.6666666666666666,
              "#ed7953"
             ],
             [
              0.7777777777777778,
              "#fb9f3a"
             ],
             [
              0.8888888888888888,
              "#fdca26"
             ],
             [
              1,
              "#f0f921"
             ]
            ],
            "type": "histogram2dcontour"
           }
          ],
          "mesh3d": [
           {
            "colorbar": {
             "outlinewidth": 0,
             "ticks": ""
            },
            "type": "mesh3d"
           }
          ],
          "parcoords": [
           {
            "line": {
             "colorbar": {
              "outlinewidth": 0,
              "ticks": ""
             }
            },
            "type": "parcoords"
           }
          ],
          "pie": [
           {
            "automargin": true,
            "type": "pie"
           }
          ],
          "scatter": [
           {
            "fillpattern": {
             "fillmode": "overlay",
             "size": 10,
             "solidity": 0.2
            },
            "type": "scatter"
           }
          ],
          "scatter3d": [
           {
            "line": {
             "colorbar": {
              "outlinewidth": 0,
              "ticks": ""
             }
            },
            "marker": {
             "colorbar": {
              "outlinewidth": 0,
              "ticks": ""
             }
            },
            "type": "scatter3d"
           }
          ],
          "scattercarpet": [
           {
            "marker": {
             "colorbar": {
              "outlinewidth": 0,
              "ticks": ""
             }
            },
            "type": "scattercarpet"
           }
          ],
          "scattergeo": [
           {
            "marker": {
             "colorbar": {
              "outlinewidth": 0,
              "ticks": ""
             }
            },
            "type": "scattergeo"
           }
          ],
          "scattergl": [
           {
            "marker": {
             "colorbar": {
              "outlinewidth": 0,
              "ticks": ""
             }
            },
            "type": "scattergl"
           }
          ],
          "scattermapbox": [
           {
            "marker": {
             "colorbar": {
              "outlinewidth": 0,
              "ticks": ""
             }
            },
            "type": "scattermapbox"
           }
          ],
          "scatterpolar": [
           {
            "marker": {
             "colorbar": {
              "outlinewidth": 0,
              "ticks": ""
             }
            },
            "type": "scatterpolar"
           }
          ],
          "scatterpolargl": [
           {
            "marker": {
             "colorbar": {
              "outlinewidth": 0,
              "ticks": ""
             }
            },
            "type": "scatterpolargl"
           }
          ],
          "scatterternary": [
           {
            "marker": {
             "colorbar": {
              "outlinewidth": 0,
              "ticks": ""
             }
            },
            "type": "scatterternary"
           }
          ],
          "surface": [
           {
            "colorbar": {
             "outlinewidth": 0,
             "ticks": ""
            },
            "colorscale": [
             [
              0,
              "#0d0887"
             ],
             [
              0.1111111111111111,
              "#46039f"
             ],
             [
              0.2222222222222222,
              "#7201a8"
             ],
             [
              0.3333333333333333,
              "#9c179e"
             ],
             [
              0.4444444444444444,
              "#bd3786"
             ],
             [
              0.5555555555555556,
              "#d8576b"
             ],
             [
              0.6666666666666666,
              "#ed7953"
             ],
             [
              0.7777777777777778,
              "#fb9f3a"
             ],
             [
              0.8888888888888888,
              "#fdca26"
             ],
             [
              1,
              "#f0f921"
             ]
            ],
            "type": "surface"
           }
          ],
          "table": [
           {
            "cells": {
             "fill": {
              "color": "#EBF0F8"
             },
             "line": {
              "color": "white"
             }
            },
            "header": {
             "fill": {
              "color": "#C8D4E3"
             },
             "line": {
              "color": "white"
             }
            },
            "type": "table"
           }
          ]
         },
         "layout": {
          "annotationdefaults": {
           "arrowcolor": "#2a3f5f",
           "arrowhead": 0,
           "arrowwidth": 1
          },
          "autotypenumbers": "strict",
          "coloraxis": {
           "colorbar": {
            "outlinewidth": 0,
            "ticks": ""
           }
          },
          "colorscale": {
           "diverging": [
            [
             0,
             "#8e0152"
            ],
            [
             0.1,
             "#c51b7d"
            ],
            [
             0.2,
             "#de77ae"
            ],
            [
             0.3,
             "#f1b6da"
            ],
            [
             0.4,
             "#fde0ef"
            ],
            [
             0.5,
             "#f7f7f7"
            ],
            [
             0.6,
             "#e6f5d0"
            ],
            [
             0.7,
             "#b8e186"
            ],
            [
             0.8,
             "#7fbc41"
            ],
            [
             0.9,
             "#4d9221"
            ],
            [
             1,
             "#276419"
            ]
           ],
           "sequential": [
            [
             0,
             "#0d0887"
            ],
            [
             0.1111111111111111,
             "#46039f"
            ],
            [
             0.2222222222222222,
             "#7201a8"
            ],
            [
             0.3333333333333333,
             "#9c179e"
            ],
            [
             0.4444444444444444,
             "#bd3786"
            ],
            [
             0.5555555555555556,
             "#d8576b"
            ],
            [
             0.6666666666666666,
             "#ed7953"
            ],
            [
             0.7777777777777778,
             "#fb9f3a"
            ],
            [
             0.8888888888888888,
             "#fdca26"
            ],
            [
             1,
             "#f0f921"
            ]
           ],
           "sequentialminus": [
            [
             0,
             "#0d0887"
            ],
            [
             0.1111111111111111,
             "#46039f"
            ],
            [
             0.2222222222222222,
             "#7201a8"
            ],
            [
             0.3333333333333333,
             "#9c179e"
            ],
            [
             0.4444444444444444,
             "#bd3786"
            ],
            [
             0.5555555555555556,
             "#d8576b"
            ],
            [
             0.6666666666666666,
             "#ed7953"
            ],
            [
             0.7777777777777778,
             "#fb9f3a"
            ],
            [
             0.8888888888888888,
             "#fdca26"
            ],
            [
             1,
             "#f0f921"
            ]
           ]
          },
          "colorway": [
           "#636efa",
           "#EF553B",
           "#00cc96",
           "#ab63fa",
           "#FFA15A",
           "#19d3f3",
           "#FF6692",
           "#B6E880",
           "#FF97FF",
           "#FECB52"
          ],
          "font": {
           "color": "#2a3f5f"
          },
          "geo": {
           "bgcolor": "white",
           "lakecolor": "white",
           "landcolor": "#E5ECF6",
           "showlakes": true,
           "showland": true,
           "subunitcolor": "white"
          },
          "hoverlabel": {
           "align": "left"
          },
          "hovermode": "closest",
          "mapbox": {
           "style": "light"
          },
          "paper_bgcolor": "white",
          "plot_bgcolor": "#E5ECF6",
          "polar": {
           "angularaxis": {
            "gridcolor": "white",
            "linecolor": "white",
            "ticks": ""
           },
           "bgcolor": "#E5ECF6",
           "radialaxis": {
            "gridcolor": "white",
            "linecolor": "white",
            "ticks": ""
           }
          },
          "scene": {
           "xaxis": {
            "backgroundcolor": "#E5ECF6",
            "gridcolor": "white",
            "gridwidth": 2,
            "linecolor": "white",
            "showbackground": true,
            "ticks": "",
            "zerolinecolor": "white"
           },
           "yaxis": {
            "backgroundcolor": "#E5ECF6",
            "gridcolor": "white",
            "gridwidth": 2,
            "linecolor": "white",
            "showbackground": true,
            "ticks": "",
            "zerolinecolor": "white"
           },
           "zaxis": {
            "backgroundcolor": "#E5ECF6",
            "gridcolor": "white",
            "gridwidth": 2,
            "linecolor": "white",
            "showbackground": true,
            "ticks": "",
            "zerolinecolor": "white"
           }
          },
          "shapedefaults": {
           "line": {
            "color": "#2a3f5f"
           }
          },
          "ternary": {
           "aaxis": {
            "gridcolor": "white",
            "linecolor": "white",
            "ticks": ""
           },
           "baxis": {
            "gridcolor": "white",
            "linecolor": "white",
            "ticks": ""
           },
           "bgcolor": "#E5ECF6",
           "caxis": {
            "gridcolor": "white",
            "linecolor": "white",
            "ticks": ""
           }
          },
          "title": {
           "x": 0.05
          },
          "xaxis": {
           "automargin": true,
           "gridcolor": "white",
           "linecolor": "white",
           "ticks": "",
           "title": {
            "standoff": 15
           },
           "zerolinecolor": "white",
           "zerolinewidth": 2
          },
          "yaxis": {
           "automargin": true,
           "gridcolor": "white",
           "linecolor": "white",
           "ticks": "",
           "title": {
            "standoff": 15
           },
           "zerolinecolor": "white",
           "zerolinewidth": 2
          }
         }
        },
        "title": {
         "text": "Wzrost PKB dla państw ECCAS i ECOWAS"
        }
       }
      }
     },
     "metadata": {},
     "output_type": "display_data"
    }
   ],
   "source": [
    "#Wykres ilustrujący wzrost PKB w badanycm okresie dla poszczególnych lat, z wyróżnieniem waluty posiadanej przez państwo oraz przynależności do organizacji regionalnej.\n",
    "skala = (df_p[\"GDP growth (annual %)\"].max() - df_p[\"GDP growth (annual %)\"].min())\n",
    "zero = -df_p[\"GDP growth (annual %)\"].min()/skala\n",
    "dwaplus = (skala + (2 - df_p[\"GDP growth (annual %)\"].max()))/skala\n",
    "dwamin = (skala + (-2 - df_p[\"GDP growth (annual %)\"].max()))/skala\n",
    "fig = px.parallel_categories(df_p,\n",
    "                            dimensions=df_p.columns[2:5],\n",
    "                            color = \"GDP growth (annual %)\",\n",
    "                            color_continuous_scale=[(0, \"darkred\"),(dwamin, \"red\"), (dwamin, \"yellow\"),\n",
    "                                                    (dwaplus, \"yellow\") ,  (dwaplus, \"#AAFF00\"), (1, \"darkgreen\")],\n",
    "                            title = \"Wzrost PKB dla państw ECCAS i ECOWAS\"\n",
    "                            )\n",
    "\n",
    "fig.show()"
   ]
  },
  {
   "cell_type": "markdown",
   "metadata": {},
   "source": [
    "Z powyższego wykresu wynika że wspólna waluta działa inaczej w państwach środkowo- i zachodnioafrykańskich. Państwa środkowoafdrykańskie, które przyjęły Franka CFA, wzrost PKB był generalnie słabszy niż w państwach które posiadały walutę narodową. Z kolei państwa zachodnioafrykańskie - które posiadały wspólną walutę - rozwijały się szybciej niż państwa, które utrzymały walutę krajową."
   ]
  },
  {
   "cell_type": "code",
   "execution_count": 11,
   "metadata": {},
   "outputs": [
    {
     "data": {
      "image/png": "[encoded data removed]",
      "text/plain": [
       "<Figure size 1200x2000 with 8 Axes>"
      ]
     },
     "metadata": {},
     "output_type": "display_data"
    }
   ],
   "source": [
    "#Wykresy ilustrujące wpływ posiadania rodzaju waluty na wybrane zmienne ekonomiczne z wyróżnieniem lat i przynależności do organizacji regionalnej.\n",
    "plt.figure(figsize=(12,20))\n",
    "plt.style.use(\"grayscale\")\n",
    "plt.subplot(4,2,1)\n",
    "\n",
    "plt.subplots_adjust(hspace=0.3)\n",
    "\n",
    "plt.title(\"Roczny wzrost PKB\\nw zależności od posiadanej waluty\")\n",
    "sns.pointplot(data=df_m[df_m[\"Series Name\"] == \"GDP growth (annual %)\"],\n",
    "              x=\"Org. międzynarodowa\", y=\"Wartość serii\",\n",
    "              hue='Waluta',\n",
    "              dodge=0.1,\n",
    "              palette='spring',\n",
    "              capsize=0.1)\n",
    "plt.ylabel(\"Rozkład wzrostu PKB w %\")\n",
    "\n",
    "plt.subplot(4,2,2)\n",
    "plt.title(\"Roczny wzrost PKB\\nw zależności od posiadanej waluty\")\n",
    "sns.pointplot(data=df_m[df_m[\"Series Name\"] == \"GDP growth (annual %)\"],\n",
    "              x=\"Rok\", y=\"Wartość serii\",\n",
    "              hue='Waluta',\n",
    "              dodge=0.1,\n",
    "              palette='brg',\n",
    "              capsize=0.1)\n",
    "plt.ylabel(\"Rozkład wzrostu PKB w %\")\n",
    "\n",
    "plt.subplot(4,2,3)\n",
    "plt.title(\"Poziom oszczędności względem PKB\\nw zależności od posiadanej waluty\")\n",
    "sns.pointplot(data=df_m[df_m[\"Series Name\"] == \"Gross savings (% of GDP)\"],\n",
    "              x=\"Org. międzynarodowa\", y=\"Wartość serii\",\n",
    "              hue='Waluta',\n",
    "              dodge=0.1,\n",
    "              palette='spring',\n",
    "              capsize=0.1)\n",
    "plt.ylabel(\"Rozkład poziomu oszczędności względem PKB\")\n",
    "\n",
    "plt.subplot(4,2,4)\n",
    "plt.title(\"Poziom oszczędności względem PKB\\nw zależności od posiadanej waluty\")\n",
    "sns.pointplot(data=df_m[df_m[\"Series Name\"] == \"Gross savings (% of GDP)\"],\n",
    "              x=\"Rok\", y=\"Wartość serii\",\n",
    "              hue='Waluta',\n",
    "              dodge=0.1,\n",
    "              palette='brg',\n",
    "              capsize=0.1)\n",
    "plt.ylabel(\"Rozkład poziomu oszczędności względem PKB\")\n",
    "\n",
    "plt.subplot(4,2,5)\n",
    "plt.title(\"Napływ bezpośrednich inwestycji zagranicznych\\nw zależności od posiadanej waluty\")\n",
    "sns.pointplot(data=df_m[df_m[\"Series Name\"] == \"Foreign direct investment, net inflows (% of GDP)\"],\n",
    "              x=\"Org. międzynarodowa\", y=\"Wartość serii\",\n",
    "              hue='Waluta',\n",
    "              dodge=0.1,\n",
    "              palette='spring',\n",
    "              capsize=0.1)\n",
    "plt.ylabel(\"Rozkład napływu bezpośrenich inwestycji zagranicznych\\nwzględem PKB\")\n",
    "\n",
    "plt.subplot(4,2,6)\n",
    "plt.title(\"Napływ bezpośrednich inwestycji zagranicznych\\nw zależności od posiadanej waluty\")\n",
    "sns.pointplot(data=df_m[df_m[\"Series Name\"] == \"Foreign direct investment, net inflows (% of GDP)\"],\n",
    "              x=\"Rok\", y=\"Wartość serii\",\n",
    "              hue='Waluta',\n",
    "              dodge=0.1,\n",
    "              palette='brg',\n",
    "              capsize=0.1)\n",
    "plt.ylabel(\"Rozkład napływu bezpośrenich inwestycji zagranicznych\\nwzględem PKB\")\n",
    "\n",
    "plt.subplot(4,2,7)\n",
    "plt.title(\"Udział eksportu dóbr i usług w PKB\\nw zależności od posiadanej waluty\")\n",
    "sns.pointplot(data=df_m[df_m[\"Series Name\"] == \"Exports of goods and services (% of GDP)\"],\n",
    "              x=\"Org. międzynarodowa\", y=\"Wartość serii\",\n",
    "              hue='Waluta',\n",
    "              dodge=0.1,\n",
    "              palette='spring',\n",
    "              capsize=0.1)\n",
    "plt.ylabel(\"Udział eksportu dóbr i usług w PKB\")\n",
    "\n",
    "plt.subplot(4,2,8)\n",
    "plt.title(\"Udział eksportu dóbr i usług w PKB\\nw zależności od posiadanej waluty\")\n",
    "sns.pointplot(data=df_m[df_m[\"Series Name\"] == \"Exports of goods and services (% of GDP)\"],\n",
    "              x=\"Rok\", y=\"Wartość serii\",\n",
    "              hue='Waluta',\n",
    "              dodge=0.1,\n",
    "              palette='brg',\n",
    "              capsize=0.1)\n",
    "plt.ylabel(\"Udział eksportu dóbr i usług w PKB\")\n",
    "\n",
    "plt.show()"
   ]
  },
  {
   "cell_type": "markdown",
   "metadata": {},
   "source": [
    "Wykres ilustruje że posiadanie Zachodnioafrykańskiego Franka CFA sprzyjało wzrostowi PKB. Wpływ ten pozostał na podobnym poziomie przez cały badany okres. Państwa posiadające waluty własne rozwijały się w podobnym tempie, niezależnie od przynależności do organizacji regionalej. Ponadto państwa posiadające własne waluty zaczęły rozwijać się coraz szybciej w badanym okresie i dla roku 2018, różnica między wzrostem PKB między państwami posiadającymi własną walutę, a XOF była niewielka. Z kolei posiadanie Środkowoafrykańskiego Franka CFA nie sprzyjało rozwojowi. Jedynie w roku 2015 XAF mógł się równać rozwojowi w państwach z walutami narodowymi.\n",
    "<br/><br/>\n",
    "Posiadanie zrówno Zachodnioafrykańskiego Franka CFA jak i waluty narodowej nie sprzyjało zwiększeniu stopy oszczędności. Z kolei państwa posiadające XAF miały na początku okresu wyższy poziom oszczędności, jednak później wystąpił spadek. Warto zaznaczyć że wykres dla lat 2017-2018 nie pokazuje zakresu dla państw posiadających XAF, dlatego ta różnica jest prawdopodobnie wynikiem braków danych.\n",
    "<br/><br/>\n",
    "Państwa posiadające XAF skuteczniej przyciągały BIZ niż państwa posiadające XOF. Państwa środkowoafrykańskiej unii walutowej jedynie w 2016 roku zanotowały znaczący spadek napływu BIZ. Z kolei państwa posiadające waluty narodowe radziły sobie podobnie jak państwa posiadające XOF w przyciąganiu inwestycji zagranicznych, choć spośród nich nieco lepiej radziły sobie pod tym względem państwa zachodnioafrykańskie.\n",
    "<br/><br/>\n",
    "Państwa posiadające XAF w badanym okresie były gospodarkami bazującymi na eksporcie. Ponadto udział esportu w ich PKB rósł w badanym okresie. Państwa posiadające XOF oraz środkowoafrykańskie państwa z walutami narodowymi miały podobny udział eksportu w PKB. Z kolei zachodnioafrykańskie państwa posadające walutę narodową miały wyższy udział eksportu w PKB."
   ]
  },
  {
   "cell_type": "code",
   "execution_count": 15,
   "metadata": {},
   "outputs": [
    {
     "data": {
      "image/png": "[encoded data removed]",
      "text/plain": [
       "<Figure size 1300x1300 with 6 Axes>"
      ]
     },
     "metadata": {},
     "output_type": "display_data"
    }
   ],
   "source": [
    "#Wykresy ilustrujące zależności między daną zmienną makroekonomiczną, a wzrostem PKB z wyróżnieniem posiadanego typu waluty.\n",
    "plt.figure(figsize = (13,13))\n",
    "plt.subplots_adjust(hspace=0.4)\n",
    "\n",
    "plt.subplot(3,2,1)\n",
    "plt.title(\"Zależność między wzrostem PKB na głowę, a wzrostem PKB\\nw państwach Afryki Zachodniej i Środkowej\")\n",
    "sns.scatterplot(data=df_p,\n",
    "                x=\"GDP per capita growth (annual %)\",\n",
    "                y=\"GDP growth (annual %)\",\n",
    "                hue=\"Waluta\",\n",
    "                palette='brg',\n",
    "                )\n",
    "plt.xlabel(\"Roczny wzrost % PKB per capita\")\n",
    "plt.ylabel(\"Roczny wzrost % PKB\")\n",
    "\n",
    "plt.subplot(3,2,3)\n",
    "plt.title(\"Zależność między oszczędnościami, a wzrostem PKB\\nw państwach Afryki Zachodniej i Środkowej\")\n",
    "sns.scatterplot(data=df_p,\n",
    "                x=\"Gross savings (% of GDP)\",\n",
    "                y=\"GDP growth (annual %)\",\n",
    "                hue=\"Waluta\",\n",
    "                palette='brg',\n",
    "                )\n",
    "plt.xlabel(\"Oszczędności wzgęlem PKB\")\n",
    "plt.ylabel(\"Roczny wzrost % PKB\")\n",
    "\n",
    "plt.subplot(3,2,2)\n",
    "plt.title(\"Zależność między napływem BIZ, a wzrostem PKB\\nw państwach Afryki Zachodniej i Środkowej\")\n",
    "sns.scatterplot(data=df_p,\n",
    "                x=\"Foreign direct investment, net inflows (% of GDP)\",\n",
    "                y=\"GDP growth (annual %)\",\n",
    "                hue=\"Waluta\",\n",
    "                palette='brg',\n",
    "                )\n",
    "plt.xlabel(\"Napływ BIZ względem PKB\")\n",
    "plt.ylabel(\"Roczny wzrost % PKB\")\n",
    "\n",
    "plt.subplot(3,2,5)\n",
    "plt.title(\"Zależność między eksportem dóbr i usług, a wzrostem PKB\\nw państwach Afryki Zachodniej i Środkowej\")\n",
    "sns.scatterplot(data=df_p,\n",
    "                x=\"Exports of goods and services (% of GDP)\",\n",
    "                y=\"GDP growth (annual %)\",\n",
    "                hue=\"Waluta\",\n",
    "                palette='brg',\n",
    "                )\n",
    "plt.xlabel(\"Eksport dóbr i usług względem PKB\")\n",
    "plt.ylabel(\"Roczny wzrost % PKB\")\n",
    "\n",
    "plt.subplot(3,2,4)\n",
    "plt.title(\"Zależność między wydatkami na konsumpcję, a wzrostem PKB\\nw państwach Afryki Zachodniej i Środkowej\")\n",
    "sns.scatterplot(data=df_p,\n",
    "                x=\"Final consumption expenditure (% of GDP)\",\n",
    "                y=\"GDP growth (annual %)\",\n",
    "                hue=\"Waluta\",\n",
    "                palette='brg',\n",
    "                )\n",
    "plt.xlabel(\"Wydatki na finalną konsumpcję względem PKB\")\n",
    "plt.ylabel(\"Roczny wzrost % PKB\")\n",
    "\n",
    "plt.subplot(3,2,6)\n",
    "plt.title(\"Zależność między eksportem dóbr i usług, a wzrostem PKB\\nw państwach Afryki Zachodniej i Środkowej\")\n",
    "sns.scatterplot(data=df_p,\n",
    "                x=\"Imports of goods and services (% of GDP)\",\n",
    "                y=\"GDP growth (annual %)\",\n",
    "                hue=\"Waluta\",\n",
    "                palette='brg',\n",
    "                )\n",
    "plt.xlabel(\"Import dóbr i usług względem PKB\")\n",
    "plt.ylabel(\"Roczny wzrost % PKB\")\n",
    "\n",
    "plt.show()"
   ]
  },
  {
   "cell_type": "markdown",
   "metadata": {},
   "source": [
    "Istnieje silna zależność między wzrostem PKB ogólnego, a PKB per capita. Oznacza to że jeżeli dane państwo osiągało dodatni wzrost gospodarczy, to na ogół w swoim tempie wychodziło z pułapki maltuzjańskiej.\n",
    "<br/><br/>\n",
    "Z danych dla badanego okresu wynika że nie istniała krótkooresowa zależność między wzrostem PKB, a napływem bezpośrednich inwestycji zagranicznych. Z danych wynika że istnieje lekka ujemna zależność między wzrostem PKB, a poziomem oszczędności. Istnieje z kolei dodatnia zależność między wydatkami na konsumpcję a wzrostem PKB. Istnieje wyraźnie ujemna zależność między udziałem eksportu w PKB, a wzrostem PKB. Z kolei import nie wykazywał jednoznacznego wpływu na wzrost gospodarczy badanych państw.\n",
    "<br/><br/>\n",
    "Powyższą analizę możemy streścić stwierdzeniem, że państwa stawiające na rozwój rynku wewnętrznego rozwijały się szybciej niż państwa stawiające na eksport, oszczędności czy inwestycje zagraniczne.\n",
    "<br/><br/>\n",
    "Warto również zwrócić uwagę, że pańmstwa posiadające Zachoidnioafrykańskiego Franka CFA mają mniej rozproszone dane dla badanego okresu, w stosunku do państw posiadających Środkowoafrykańskiego Franka CFA. Oznacza to że zachodnioafrykańskie państwa tworzące unię walutową są gospodarkami o bardziej zbliżonym profilu.\n",
    "<br/><br/>\n",
    "Dla niektórych państw posiadających walutę narodową mógł wystąpić błąd - jeżeli wartość danej zmiennej wynosiła 0, co dla byłoby niemożliwe dla eksportu, importu, i konsumpcji."
   ]
  },
  {
   "cell_type": "code",
   "execution_count": 44,
   "metadata": {},
   "outputs": [
    {
     "data": {
      "application/vnd.plotly.v1+json": {
       "config": {
        "plotlyServerURL": "https://plot.ly"
       },
       "data": [
        {
         "hovertemplate": "Waluta=Wł.<br>Broad money (% of GDP)=%{x}<br>Domestic credit to private sector (% of GDP)=%{y}<br>Gross capital formation (% of GDP)=%{z}<br>Total natural resources rents (% of GDP)=%{marker.color}<extra></extra>",
         "legendgroup": "Wł.",
         "marker": {
          "color": [
           13.3056748880613,
           20.8851202682195,
           25.9503299089307,
           32.045405604301,
           15.5344531520944,
           19.1016499815056,
           18.5076749744059,
           13.4317629933204,
           9.49812397150104,
           10.1923207968108,
           12.3203094483764,
           14.343668170972,
           20.1093927301662,
           20.5721227000572,
           24.7656558437341,
           18.4167757889728,
           5.55888177634649,
           6.56105812711213,
           6.49323709656864,
           2.72252448983926,
           10.5635168212992,
           8.64980290681468,
           10.3700404312643,
           9.7904078745383,
           14.1138586026586,
           18.1063644814226,
           18.9531246230915,
           13.7023759938136,
           19.4462580281234,
           20.1143619477823,
           21.3240563239483,
           14.0250297312743,
           4.55410681800406,
           4.65772615666869,
           7.80498492445019,
           9.79850822600435,
           5.77813915585401,
           5.99862102587479,
           6.01492971463291,
           4.71387568610559,
           3.41287577328636,
           3.27531389837999,
           3.15239782697584,
           2.33693840944991,
           10.5713602396516,
           14.6732645434772,
           14.9365306672881,
           8.55532841443589
          ],
          "coloraxis": "coloraxis",
          "opacity": 0.75,
          "symbol": "circle"
         },
         "mode": "markers",
         "name": "Wł.",
         "scene": "scene",
         "showlegend": true,
         "type": "scatter3d",
         "x": [
          40.94465991620175,
          39.16230805608631,
          32.186521091276575,
          30.64644052372359,
          22.675540839051166,
          24.240909060278724,
          27.338091341802873,
          33.19741212691512,
          90.2355435905366,
          92.21303301022127,
          92.73388165672101,
          89.14682508191602,
          12.290349366064538,
          14.006684867678182,
          12.672801096430836,
          12.414752713193296,
          0,
          0,
          38.28397214284512,
          39.47209551295667,
          25.670273335514572,
          26.28077612081277,
          25.488334734800283,
          25.12738065825196,
          24.864754059114265,
          23.966414886760315,
          23.018610145320785,
          22.20251027206575,
          20.740293464391346,
          18.093497461523068,
          20.063967196597364,
          20.478832998901726,
          22.366826541930955,
          27.37878835741831,
          24.781417863879717,
          25.362462731622827,
          20.775454347414247,
          20.286188575335153,
          19.708142175277228,
          21.69121630473498,
          49.10474735807206,
          41.51261208401586,
          38.22578050443955,
          38.722707809273416,
          23.964197367016475,
          25.09078859815499,
          23.74686472881533,
          23.038522027713025
         ],
         "y": [
          25.24010830549836,
          21.098409900147345,
          17.000685058629436,
          14.93527048877287,
          16.38809242048558,
          17.169907257375332,
          15.463733539857666,
          18.032643917196186,
          56.41116702983916,
          55.10423700576796,
          55.42405954259107,
          53.660705536292205,
          6.285511127069254,
          7.392788699071909,
          5.465839694575019,
          5.804400515743853,
          0,
          0,
          6.092216304851465,
          7.05226804537001,
          17.933567135163894,
          17.43563884659947,
          16.09951997900678,
          13.714143396987014,
          11.820849075332609,
          10.772259397127215,
          9.115691528053254,
          9.651737671319012,
          12.744949427578561,
          13.020664595354864,
          16.752353794963085,
          16.976407905188484,
          13.078684477369837,
          14.608038856310182,
          12.85202980761983,
          10.246581301239935,
          20.997589212500127,
          20.473294667057992,
          20.594411681878274,
          21.40354988416534,
          33.25682932344575,
          31.49940560218732,
          29.438708652203076,
          24.771090762313236,
          0.005344063928447136,
          0.005541443526458139,
          0.005144218562072778,
          0.005695147351981709
         ],
         "z": [
          34.20249082976118,
          27.21470926879347,
          24.13030586464634,
          17.869420567758173,
          12.16345825054958,
          9.237409969694315,
          8.806015604546744,
          11.103458593014848,
          29.107033562616756,
          28.555378240727496,
          29.28348624443238,
          27.486159184509013,
          18.52712019622326,
          17.399935897709124,
          24.987678381573307,
          20.600959616347048,
          20.351521079297065,
          24.92148365792915,
          22.961152358232244,
          20.878070354049648,
          27.709641306460924,
          25.45565573192415,
          19.565519754504283,
          21.70933528130923,
          24.163365042715984,
          52.66984219600981,
          22.270417145695106,
          19.547314817669946,
          0,
          0,
          0,
          0,
          0,
          0,
          0,
          0,
          24.236099008149665,
          25.90988248017746,
          23.83503023172937,
          22.272914892834955,
          0,
          0,
          0,
          0,
          15.407139065521072,
          19.14274301606192,
          18.59321079312052,
          14.828374034585426
         ]
        },
        {
         "hovertemplate": "Waluta=XOF<br>Broad money (% of GDP)=%{x}<br>Domestic credit to private sector (% of GDP)=%{y}<br>Gross capital formation (% of GDP)=%{z}<br>Total natural resources rents (% of GDP)=%{marker.color}<extra></extra>",
         "legendgroup": "XOF",
         "marker": {
          "color": [
           4.30030313599698,
           4.4537224695981,
           4.09835325309901,
           2.60830727598415,
           11.6328502278275,
           12.6155172354896,
           12.3099089646115,
           8.87619594401664,
           3.07259669730878,
           3.23053071841614,
           3.38876801583982,
           3.10996909544373,
           19.8714177012089,
           18.7015046109056,
           15.9857332638944,
           9.88886799180997,
           7.42711000514874,
           8.99083015150657,
           7.81614668872422,
           7.74269774600288,
           9.74015905746736,
           9.68635453036973,
           9.37929042574549,
           6.79609733342576,
           3.47911885653568,
           3.9796411050175,
           3.21232528542185,
           2.88655464408866,
           12.7280087175611,
           9.003109569313,
           7.77733835842081,
           4.87362329556752
          ],
          "coloraxis": "coloraxis",
          "opacity": 0.75,
          "symbol": "diamond"
         },
         "mode": "markers",
         "name": "XOF",
         "scene": "scene",
         "showlegend": true,
         "type": "scatter3d",
         "x": [
          30.984760649304288,
          29.832094609205694,
          28.630990850217646,
          27.931812658997057,
          35.59710288433953,
          36.56257429976057,
          41.10114306618059,
          42.128164995709874,
          26.110095529187504,
          27.374861062011117,
          28.12212964478337,
          29.913320108060937,
          49.40396338124643,
          47.91304530724367,
          43.90216991326005,
          43.677474264503005,
          26.83932983468621,
          27.70543888156941,
          26.92704185323505,
          28.50639262939793,
          19.447508795301346,
          19.63432713665921,
          17.713017580635622,
          15.794315466819805,
          35.289827206516634,
          37.37748395895172,
          37.793417189020055,
          40.962835245707005,
          37.54286902983695,
          39.90536278389703,
          42.56443479187689,
          44.20811898396482
         ],
         "y": [
          16.735706436467574,
          17.482372279853337,
          16.577919509506557,
          16.746415437675378,
          25.037770562270357,
          25.80994560265258,
          27.421601890354264,
          27.14971371393487,
          16.74171162918006,
          17.66943079987434,
          19.250513481787554,
          19.2748278273806,
          8.552990901653962,
          7.398458982996191,
          12.748005477974313,
          14.309307559967872,
          24.991636630288124,
          26.42641658305757,
          25.948223942032044,
          25.58980468553112,
          11.273154737693146,
          11.478825705069855,
          11.414857471131167,
          10.20261221392007,
          27.304686269201657,
          27.798279873530184,
          29.664784802757033,
          29.551616586005235,
          29.175126627189368,
          30.417105628132184,
          29.63987689072666,
          27.8062312207682
         ],
         "z": [
          20.73179208574602,
          20.27203960469535,
          23.96042222925006,
          26.38651302495134,
          19.40669971642433,
          20.795547948402675,
          22.078122163529862,
          21.739104819001774,
          23.389862509062215,
          23.194401756269652,
          20.81765868534422,
          22.25279049906413,
          8.08555307153081,
          7.823093744566874,
          9.00098052640075,
          17.257900492679177,
          20.760897764365897,
          23.962648799945622,
          21.58921477370224,
          20.458302602059558,
          32.35682286921576,
          27.52106963104129,
          26.015252138082758,
          28.918772224727,
          25.833308750410378,
          25.361673028226605,
          29.815574341959135,
          32.64794094122393,
          25.185015167393836,
          20.15724574518707,
          16.836065454429765,
          19.136000254075388
         ]
        },
        {
         "hovertemplate": "Waluta=XAF<br>Broad money (% of GDP)=%{x}<br>Domestic credit to private sector (% of GDP)=%{y}<br>Gross capital formation (% of GDP)=%{z}<br>Total natural resources rents (% of GDP)=%{marker.color}<extra></extra>",
         "legendgroup": "XAF",
         "marker": {
          "color": [
           5.63563339959601,
           5.36737216526029,
           6.08352640758934,
           6.10463986256462,
           12.6926233912315,
           13.0582628938186,
           13.4175903775497,
           11.1787424768372,
           11.9712071081449,
           13.110061160108,
           16.8846139020106,
           20.9399413766231,
           15.885704604199,
           17.0000392659621,
           29.8063807729514,
           42.6682046537325,
           17.5005073478909,
           16.4599653575836,
           21.9589067386853,
           27.8023533090755,
           12.5534347249347,
           11.6621945364629,
           17.699784026005,
           21.16026297404
          ],
          "coloraxis": "coloraxis",
          "opacity": 0.75,
          "symbol": "square"
         },
         "mode": "markers",
         "name": "XAF",
         "scene": "scene",
         "showlegend": true,
         "type": "scatter3d",
         "x": [
          19.783242308813826,
          19.740634135197098,
          19.89720844058678,
          21.40184924521904,
          25.713849701573523,
          25.208041304983002,
          24.990609345446448,
          27.801091895090522,
          15.864195242508494,
          15.842897727272728,
          15.613720921682031,
          14.617886715418638,
          30.479655342253974,
          29.3906277095463,
          24.50433905908126,
          19.28663991782956,
          15.449943684881637,
          14.275104192329938,
          12.72681949986047,
          12.306395503642836,
          24.89688445511113,
          24.454710467156353,
          19.362416367948498,
          23.86971561541165
         ],
         "y": [
          14.190393085648658,
          14.370664048515247,
          14.063346145304594,
          14.682077628989779,
          11.71543359611886,
          12.314843238565125,
          11.215017734209573,
          12.344331994471624,
          8.352517763361137,
          12.473111631016042,
          12.155394114465695,
          11.248909936572886,
          15.227252169824556,
          17.93956499275978,
          15.784514445444165,
          13.003578111748789,
          12.52625259447214,
          14.94685825961276,
          14.121433097378336,
          14.18824914714567,
          14.516147228623822,
          13.828989550755754,
          10.290362208163712,
          13.082693069164922
         ],
         "z": [
          18.249855488335253,
          19.81805484484269,
          19.445137402487923,
          19.53802963510562,
          21.805380453863584,
          22.463467946844982,
          25.60125120084034,
          26,
          28.4591562635156,
          24.391798596256685,
          21.293134691391373,
          20.8675303023216,
          76.78231476457435,
          71.2668547640659,
          45.89448807059194,
          29.527010781505364,
          24.701452904397712,
          16.698645990314347,
          14.031716654129983,
          12.501496627553424,
          29.230956292490166,
          26.982261043107542,
          21.298608436791337,
          19.258232428411386
         ]
        }
       ],
       "layout": {
        "coloraxis": {
         "colorbar": {
          "title": {
           "text": "Udział % zysku z wydobycia<br>surowców naturalnych względem PKB"
          }
         },
         "colorscale": [
          [
           0,
           "#4682B4"
          ],
          [
           0.5,
           "yellow"
          ],
          [
           1,
           "darkred"
          ]
         ]
        },
        "height": 700,
        "legend": {
         "orientation": "h",
         "title": {
          "text": "Waluta"
         },
         "tracegroupgap": 0,
         "traceorder": "normal",
         "y": -0.1
        },
        "margin": {
         "t": 60
        },
        "scene": {
         "domain": {
          "x": [
           0,
           1
          ],
          "y": [
           0,
           1
          ]
         },
         "xaxis": {
          "title": {
           "text": "Podaż szerokiego pieniądza<br>% względem PKB"
          }
         },
         "yaxis": {
          "title": {
           "text": "Podaż krajowych kredytów dla sektora prywatnego<br>% względem PKB"
          }
         },
         "zaxis": {
          "title": {
           "text": "Nakłady na majątek trwały<br>% względem PKB"
          }
         }
        },
        "template": {
         "data": {
          "bar": [
           {
            "error_x": {
             "color": "#2a3f5f"
            },
            "error_y": {
             "color": "#2a3f5f"
            },
            "marker": {
             "line": {
              "color": "#E5ECF6",
              "width": 0.5
             },
             "pattern": {
              "fillmode": "overlay",
              "size": 10,
              "solidity": 0.2
             }
            },
            "type": "bar"
           }
          ],
          "barpolar": [
           {
            "marker": {
             "line": {
              "color": "#E5ECF6",
              "width": 0.5
             },
             "pattern": {
              "fillmode": "overlay",
              "size": 10,
              "solidity": 0.2
             }
            },
            "type": "barpolar"
           }
          ],
          "carpet": [
           {
            "aaxis": {
             "endlinecolor": "#2a3f5f",
             "gridcolor": "white",
             "linecolor": "white",
             "minorgridcolor": "white",
             "startlinecolor": "#2a3f5f"
            },
            "baxis": {
             "endlinecolor": "#2a3f5f",
             "gridcolor": "white",
             "linecolor": "white",
             "minorgridcolor": "white",
             "startlinecolor": "#2a3f5f"
            },
            "type": "carpet"
           }
          ],
          "choropleth": [
           {
            "colorbar": {
             "outlinewidth": 0,
             "ticks": ""
            },
            "type": "choropleth"
           }
          ],
          "contour": [
           {
            "colorbar": {
             "outlinewidth": 0,
             "ticks": ""
            },
            "colorscale": [
             [
              0,
              "#0d0887"
             ],
             [
              0.1111111111111111,
              "#46039f"
             ],
             [
              0.2222222222222222,
              "#7201a8"
             ],
             [
              0.3333333333333333,
              "#9c179e"
             ],
             [
              0.4444444444444444,
              "#bd3786"
             ],
             [
              0.5555555555555556,
              "#d8576b"
             ],
             [
              0.6666666666666666,
              "#ed7953"
             ],
             [
              0.7777777777777778,
              "#fb9f3a"
             ],
             [
              0.8888888888888888,
              "#fdca26"
             ],
             [
              1,
              "#f0f921"
             ]
            ],
            "type": "contour"
           }
          ],
          "contourcarpet": [
           {
            "colorbar": {
             "outlinewidth": 0,
             "ticks": ""
            },
            "type": "contourcarpet"
           }
          ],
          "heatmap": [
           {
            "colorbar": {
             "outlinewidth": 0,
             "ticks": ""
            },
            "colorscale": [
             [
              0,
              "#0d0887"
             ],
             [
              0.1111111111111111,
              "#46039f"
             ],
             [
              0.2222222222222222,
              "#7201a8"
             ],
             [
              0.3333333333333333,
              "#9c179e"
             ],
             [
              0.4444444444444444,
              "#bd3786"
             ],
             [
              0.5555555555555556,
              "#d8576b"
             ],
             [
              0.6666666666666666,
              "#ed7953"
             ],
             [
              0.7777777777777778,
              "#fb9f3a"
             ],
             [
              0.8888888888888888,
              "#fdca26"
             ],
             [
              1,
              "#f0f921"
             ]
            ],
            "type": "heatmap"
           }
          ],
          "heatmapgl": [
           {
            "colorbar": {
             "outlinewidth": 0,
             "ticks": ""
            },
            "colorscale": [
             [
              0,
              "#0d0887"
             ],
             [
              0.1111111111111111,
              "#46039f"
             ],
             [
              0.2222222222222222,
              "#7201a8"
             ],
             [
              0.3333333333333333,
              "#9c179e"
             ],
             [
              0.4444444444444444,
              "#bd3786"
             ],
             [
              0.5555555555555556,
              "#d8576b"
             ],
             [
              0.6666666666666666,
              "#ed7953"
             ],
             [
              0.7777777777777778,
              "#fb9f3a"
             ],
             [
              0.8888888888888888,
              "#fdca26"
             ],
             [
              1,
              "#f0f921"
             ]
            ],
            "type": "heatmapgl"
           }
          ],
          "histogram": [
           {
            "marker": {
             "pattern": {
              "fillmode": "overlay",
              "size": 10,
              "solidity": 0.2
             }
            },
            "type": "histogram"
           }
          ],
          "histogram2d": [
           {
            "colorbar": {
             "outlinewidth": 0,
             "ticks": ""
            },
            "colorscale": [
             [
              0,
              "#0d0887"
             ],
             [
              0.1111111111111111,
              "#46039f"
             ],
             [
              0.2222222222222222,
              "#7201a8"
             ],
             [
              0.3333333333333333,
              "#9c179e"
             ],
             [
              0.4444444444444444,
              "#bd3786"
             ],
             [
              0.5555555555555556,
              "#d8576b"
             ],
             [
              0.6666666666666666,
              "#ed7953"
             ],
             [
              0.7777777777777778,
              "#fb9f3a"
             ],
             [
              0.8888888888888888,
              "#fdca26"
             ],
             [
              1,
              "#f0f921"
             ]
            ],
            "type": "histogram2d"
           }
          ],
          "histogram2dcontour": [
           {
            "colorbar": {
             "outlinewidth": 0,
             "ticks": ""
            },
            "colorscale": [
             [
              0,
              "#0d0887"
             ],
             [
              0.1111111111111111,
              "#46039f"
             ],
             [
              0.2222222222222222,
              "#7201a8"
             ],
             [
              0.3333333333333333,
              "#9c179e"
             ],
             [
              0.4444444444444444,
              "#bd3786"
             ],
             [
              0.5555555555555556,
              "#d8576b"
             ],
             [
              0.6666666666666666,
              "#ed7953"
             ],
             [
              0.7777777777777778,
              "#fb9f3a"
             ],
             [
              0.8888888888888888,
              "#fdca26"
             ],
             [
              1,
              "#f0f921"
             ]
            ],
            "type": "histogram2dcontour"
           }
          ],
          "mesh3d": [
           {
            "colorbar": {
             "outlinewidth": 0,
             "ticks": ""
            },
            "type": "mesh3d"
           }
          ],
          "parcoords": [
           {
            "line": {
             "colorbar": {
              "outlinewidth": 0,
              "ticks": ""
             }
            },
            "type": "parcoords"
           }
          ],
          "pie": [
           {
            "automargin": true,
            "type": "pie"
           }
          ],
          "scatter": [
           {
            "fillpattern": {
             "fillmode": "overlay",
             "size": 10,
             "solidity": 0.2
            },
            "type": "scatter"
           }
          ],
          "scatter3d": [
           {
            "line": {
             "colorbar": {
              "outlinewidth": 0,
              "ticks": ""
             }
            },
            "marker": {
             "colorbar": {
              "outlinewidth": 0,
              "ticks": ""
             }
            },
            "type": "scatter3d"
           }
          ],
          "scattercarpet": [
           {
            "marker": {
             "colorbar": {
              "outlinewidth": 0,
              "ticks": ""
             }
            },
            "type": "scattercarpet"
           }
          ],
          "scattergeo": [
           {
            "marker": {
             "colorbar": {
              "outlinewidth": 0,
              "ticks": ""
             }
            },
            "type": "scattergeo"
           }
          ],
          "scattergl": [
           {
            "marker": {
             "colorbar": {
              "outlinewidth": 0,
              "ticks": ""
             }
            },
            "type": "scattergl"
           }
          ],
          "scattermapbox": [
           {
            "marker": {
             "colorbar": {
              "outlinewidth": 0,
              "ticks": ""
             }
            },
            "type": "scattermapbox"
           }
          ],
          "scatterpolar": [
           {
            "marker": {
             "colorbar": {
              "outlinewidth": 0,
              "ticks": ""
             }
            },
            "type": "scatterpolar"
           }
          ],
          "scatterpolargl": [
           {
            "marker": {
             "colorbar": {
              "outlinewidth": 0,
              "ticks": ""
             }
            },
            "type": "scatterpolargl"
           }
          ],
          "scatterternary": [
           {
            "marker": {
             "colorbar": {
              "outlinewidth": 0,
              "ticks": ""
             }
            },
            "type": "scatterternary"
           }
          ],
          "surface": [
           {
            "colorbar": {
             "outlinewidth": 0,
             "ticks": ""
            },
            "colorscale": [
             [
              0,
              "#0d0887"
             ],
             [
              0.1111111111111111,
              "#46039f"
             ],
             [
              0.2222222222222222,
              "#7201a8"
             ],
             [
              0.3333333333333333,
              "#9c179e"
             ],
             [
              0.4444444444444444,
              "#bd3786"
             ],
             [
              0.5555555555555556,
              "#d8576b"
             ],
             [
              0.6666666666666666,
              "#ed7953"
             ],
             [
              0.7777777777777778,
              "#fb9f3a"
             ],
             [
              0.8888888888888888,
              "#fdca26"
             ],
             [
              1,
              "#f0f921"
             ]
            ],
            "type": "surface"
           }
          ],
          "table": [
           {
            "cells": {
             "fill": {
              "color": "#EBF0F8"
             },
             "line": {
              "color": "white"
             }
            },
            "header": {
             "fill": {
              "color": "#C8D4E3"
             },
             "line": {
              "color": "white"
             }
            },
            "type": "table"
           }
          ]
         },
         "layout": {
          "annotationdefaults": {
           "arrowcolor": "#2a3f5f",
           "arrowhead": 0,
           "arrowwidth": 1
          },
          "autotypenumbers": "strict",
          "coloraxis": {
           "colorbar": {
            "outlinewidth": 0,
            "ticks": ""
           }
          },
          "colorscale": {
           "diverging": [
            [
             0,
             "#8e0152"
            ],
            [
             0.1,
             "#c51b7d"
            ],
            [
             0.2,
             "#de77ae"
            ],
            [
             0.3,
             "#f1b6da"
            ],
            [
             0.4,
             "#fde0ef"
            ],
            [
             0.5,
             "#f7f7f7"
            ],
            [
             0.6,
             "#e6f5d0"
            ],
            [
             0.7,
             "#b8e186"
            ],
            [
             0.8,
             "#7fbc41"
            ],
            [
             0.9,
             "#4d9221"
            ],
            [
             1,
             "#276419"
            ]
           ],
           "sequential": [
            [
             0,
             "#0d0887"
            ],
            [
             0.1111111111111111,
             "#46039f"
            ],
            [
             0.2222222222222222,
             "#7201a8"
            ],
            [
             0.3333333333333333,
             "#9c179e"
            ],
            [
             0.4444444444444444,
             "#bd3786"
            ],
            [
             0.5555555555555556,
             "#d8576b"
            ],
            [
             0.6666666666666666,
             "#ed7953"
            ],
            [
             0.7777777777777778,
             "#fb9f3a"
            ],
            [
             0.8888888888888888,
             "#fdca26"
            ],
            [
             1,
             "#f0f921"
            ]
           ],
           "sequentialminus": [
            [
             0,
             "#0d0887"
            ],
            [
             0.1111111111111111,
             "#46039f"
            ],
            [
             0.2222222222222222,
             "#7201a8"
            ],
            [
             0.3333333333333333,
             "#9c179e"
            ],
            [
             0.4444444444444444,
             "#bd3786"
            ],
            [
             0.5555555555555556,
             "#d8576b"
            ],
            [
             0.6666666666666666,
             "#ed7953"
            ],
            [
             0.7777777777777778,
             "#fb9f3a"
            ],
            [
             0.8888888888888888,
             "#fdca26"
            ],
            [
             1,
             "#f0f921"
            ]
           ]
          },
          "colorway": [
           "#636efa",
           "#EF553B",
           "#00cc96",
           "#ab63fa",
           "#FFA15A",
           "#19d3f3",
           "#FF6692",
           "#B6E880",
           "#FF97FF",
           "#FECB52"
          ],
          "font": {
           "color": "#2a3f5f"
          },
          "geo": {
           "bgcolor": "white",
           "lakecolor": "white",
           "landcolor": "#E5ECF6",
           "showlakes": true,
           "showland": true,
           "subunitcolor": "white"
          },
          "hoverlabel": {
           "align": "left"
          },
          "hovermode": "closest",
          "mapbox": {
           "style": "light"
          },
          "paper_bgcolor": "white",
          "plot_bgcolor": "#E5ECF6",
          "polar": {
           "angularaxis": {
            "gridcolor": "white",
            "linecolor": "white",
            "ticks": ""
           },
           "bgcolor": "#E5ECF6",
           "radialaxis": {
            "gridcolor": "white",
            "linecolor": "white",
            "ticks": ""
           }
          },
          "scene": {
           "xaxis": {
            "backgroundcolor": "#E5ECF6",
            "gridcolor": "white",
            "gridwidth": 2,
            "linecolor": "white",
            "showbackground": true,
            "ticks": "",
            "zerolinecolor": "white"
           },
           "yaxis": {
            "backgroundcolor": "#E5ECF6",
            "gridcolor": "white",
            "gridwidth": 2,
            "linecolor": "white",
            "showbackground": true,
            "ticks": "",
            "zerolinecolor": "white"
           },
           "zaxis": {
            "backgroundcolor": "#E5ECF6",
            "gridcolor": "white",
            "gridwidth": 2,
            "linecolor": "white",
            "showbackground": true,
            "ticks": "",
            "zerolinecolor": "white"
           }
          },
          "shapedefaults": {
           "line": {
            "color": "#2a3f5f"
           }
          },
          "ternary": {
           "aaxis": {
            "gridcolor": "white",
            "linecolor": "white",
            "ticks": ""
           },
           "baxis": {
            "gridcolor": "white",
            "linecolor": "white",
            "ticks": ""
           },
           "bgcolor": "#E5ECF6",
           "caxis": {
            "gridcolor": "white",
            "linecolor": "white",
            "ticks": ""
           }
          },
          "title": {
           "x": 0.05
          },
          "xaxis": {
           "automargin": true,
           "gridcolor": "white",
           "linecolor": "white",
           "ticks": "",
           "title": {
            "standoff": 15
           },
           "zerolinecolor": "white",
           "zerolinewidth": 2
          },
          "yaxis": {
           "automargin": true,
           "gridcolor": "white",
           "linecolor": "white",
           "ticks": "",
           "title": {
            "standoff": 15
           },
           "zerolinecolor": "white",
           "zerolinewidth": 2
          }
         }
        },
        "title": {
         "font": {
          "size": 18
         },
         "text": "Zależność między nakładami na majątek trwały a<br>względną podażą pieniądza, względną wartością kredytów udzieloną sektorowi prywatnemu<br>oraz zysku z wydobycia zasobów naturalnych<br>państw Afryki Zachodniej i Środkowej",
         "yref": "paper"
        },
        "width": 1000
       }
      }
     },
     "metadata": {},
     "output_type": "display_data"
    }
   ],
   "source": [
    "#Wykres ilustrujący zależność nakładów inwestycyjnych na majątek trwały, w zależności od danych finansowych i zysku z wydobycia surowców.\n",
    "fig = px.scatter_3d(df_p,\n",
    "                    x='Broad money (% of GDP)',\n",
    "                    y='Domestic credit to private sector (% of GDP)',\n",
    "                    z='Gross capital formation (% of GDP)',\n",
    "                    color = \"Total natural resources rents (% of GDP)\",\n",
    "                    opacity = 0.75,\n",
    "                    width=1000, height=700,\n",
    "                    symbol='Waluta',\n",
    "                    size_max=5,\n",
    "                    color_continuous_scale=[(0, \"#4682B4\"), (0.5, \"yellow\"), (1, \"darkred\")])\n",
    "\n",
    "fig.update_layout(title=dict(text=f\"Zależność między nakładami na majątek trwały a<br>względną podażą pieniądza, względną wartością kredytów udzieloną sektorowi prywatnemu<br>oraz zysku z wydobycia zasobów naturalnych<br>państw Afryki Zachodniej i Środkowej\",\n",
    "                             font=dict(size=18), yref='paper'),\n",
    "                  legend=dict(traceorder='normal',\n",
    "                              orientation='h',\n",
    "                              y=-0.1),\n",
    "                  legend_title_text='Waluta',\n",
    "                  scene=dict(xaxis = dict(title=\"Podaż szerokiego pieniądza<br>% względem PKB\"),\n",
    "                             yaxis = dict(title=\"Podaż krajowych kredytów dla sektora prywatnego<br>% względem PKB\"),\n",
    "                             zaxis = dict(title=\"Nakłady na majątek trwały<br>% względem PKB\")),\n",
    "                  coloraxis_colorbar=dict(title=\"Udział % zysku z wydobycia<br>surowców naturalnych względem PKB\")\n",
    "                  )\n",
    "fig.show()   "
   ]
  },
  {
   "cell_type": "markdown",
   "metadata": {},
   "source": [
    "Celem ostatniego wykresy jest zbadanie wpływu czynników finansowych i wydobycia surowców na nakłady na majątek trwały - który w długim okresie decyduje o wzroście gospodarczym. Na wstępie trzeba zaznaczyć, że dla tutaj również widoczne są braki danych dla państw z walutami narodowymi oraz niskimi wpływami z wydobycia surowców.\n",
    "<br/><br/>\n",
    "Możemy zauważyć silną korelację między podażą kredytów dla sektora prywatnego oraz podażą szerokiego pieniądza. Państwa posiadające wyższe wpływy z wydobycia surowców posiadają mniejszą podaż pieniądza i kredytów dla sektora prywatnego względem PKB. Prawdopodobnie wpływy z surowców, pozwalają im finansować się bez zaciągania zobowiązań. Z kolei państwa posiadające małe wpływy z surowców posiadają lekką zależność między podażą kredytów, a poziomem inwestycji w majętek trwały. Koniec końców jednak mają państwa z niskimi wpływami z surowców mają podobne nakłady na inwestycje w środki trwałe, co oznacza że mają po prostu inny model finansowania. Ponadto państwa które finansują inwestycje kredytem zamiast rentą z surowców, to głównie państwa posiadające XOF - dla nich również zależność między kredytem, a nakładami na majątek trwały jest silniejsza.\n",
    "<br/><br/>\n",
    "Znów okazuje się że państwa mające XOF mają bardziej skupione dane, co zponownie obrazuje że są to gospodarki o zbliżonym profilu."
   ]
  },
  {
   "cell_type": "markdown",
   "metadata": {},
   "source": [
    "## Podsumowanie i wnioski\n",
    "1. Państwa posiadające własną walutę mają więcej braków danych i bardziej niedbale przesyłają dane do Banku Światowego. Najbardziej rzetelnie do przesłania danych podchodzą państwa zachodnioafrykańskiej unii monetarnej.\n",
    "2. Obie analizowane unie monetarne działały inaczej. Unia państw posiadających XOF rozwijała się najszybciej z analizowanych państw, z kolei państwa XAF rozwijały się najwolniej. Może być to wynik to wynik dwóch czynników: 1) państwa o bardziej zbliżonym profilu gospodarczym 2) państwa te przyjeły model rozwoju oparty o rozbudowę rynku wewnętrznego, zamiast eksportu lub pozyskaniu BIZ. Medel ten okazał się skuteczniejszym motorem rozwoju, a przy tym ceteris paribus dla identycznego poziomu PKB per capita powinien zapewnić wyższy poziom życia.\n",
    "3. W okresie 2015 - 2018 państwa ECOWAS i ECCAS wychodziły z pułapki maltuzjańskiej - co oznacza że wzrost demograficzny nie \"zjadał\" wzrostu PKB. \n",
    "4. Państwa przyjeły dwa modele finansowania inwestycji w trwałe dobra kapitałowe: 1) państwa posiadające gdzie zyski z surowców stanowią znaczący udział w PKB finansują inwestucje w środki trwałe bez kredytu 2) państwa nie posiadające znaczących zysków z surowców w PKB, mają większą względną podaż kredytu, co pozwala im osiągać nawet wyższe stopy inwestycji w środki trwałe niż państw surowcowe.\n",
    "5. Państwa XOF posiadające niski udział zysków z surowców w PKB mają silniejszą relację między kredytem a inwestycją w kapitał stały. Oznacza to że unia walutowa zwiększa sprzyja możliwości finansowania się gospodarkom tych państw przez kredyt, gospodarkom nieposiadającym surowców.\n",
    "6. Dla badanych państw lepiej jest posiadać własną walutę niż wchodzić w unię walutową z gospodarkami rozbieżnymi."
   ]
  }
 ],
 "metadata": {
  "kernelspec": {
   "display_name": "base",
   "language": "python",
   "name": "python3"
  },
  "language_info": {
   "codemirror_mode": {
    "name": "ipython",
    "version": 3
   },
   "file_extension": ".py",
   "mimetype": "text/x-python",
   "name": "python",
   "nbconvert_exporter": "python",
   "pygments_lexer": "ipython3",
   "version": "3.9.13"
  }
 },
 "nbformat": 4,
 "nbformat_minor": 2
}
